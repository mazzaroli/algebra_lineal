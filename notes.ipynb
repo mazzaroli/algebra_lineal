{
 "cells": [
  {
   "attachments": {},
   "cell_type": "markdown",
   "metadata": {},
   "source": [
    "# Fundamentos de Álgebra Lineal"
   ]
  },
  {
   "attachments": {},
   "cell_type": "markdown",
   "metadata": {},
   "source": [
    "# Modulo 1: Conceptos básicos de álgebra lineal y configuración del entorno de trabajo\n",
    "\n"
   ]
  },
  {
   "attachments": {},
   "cell_type": "markdown",
   "metadata": {},
   "source": [
    "## Introducción\n",
    "\n",
    "El álgebra lineal es una rama de las **matemáticas** que estudia conceptos tales como **vectores, matrices, espacio dual, sistemas de ecuaciones lineales** y en su enfoque de manera más formal, **espacios vectoriales** y sus **transformaciones lineales.** [-Wikipedia](https://es.wikipedia.org/wiki/%C3%81lgebra_lineal)\n",
    "\n",
    "## Configuracion del entorno\n",
    "\n",
    "Para continuar con esta lectura y poder replicar los ejercicios de la misma, se da por entendido que tiene experiencia previa programando con Python, instalada Anaconda, Jupyter Notebook y manejo de packages:\n",
    "\n",
    "- **scipy** (tambien instalará numpy)\n",
    "- **pillow** (libreria para manejo de imágenes)\n",
    "- **imageio** (lectura / escritura de imágenes)\n",
    "- **matplotlib** (para graficar)\n",
    "- **seaborn** (visualizaciones estadísticas)\n",
    "- **scikit-learn** (aprendizaje automático - lo usaremos para un ejemplo de PCA)"
   ]
  },
  {
   "cell_type": "code",
   "execution_count": 48,
   "metadata": {},
   "outputs": [
    {
     "name": "stdout",
     "output_type": "stream",
     "text": [
      "Requirement already satisfied: pip in /home/mazzaroli/anaconda3/lib/python3.9/site-packages (22.3.1)\n",
      "Requirement already satisfied: scipy in /home/mazzaroli/anaconda3/lib/python3.9/site-packages (1.7.1)\n",
      "Requirement already satisfied: pillow in /home/mazzaroli/anaconda3/lib/python3.9/site-packages (8.4.0)\n",
      "Requirement already satisfied: imageio in /home/mazzaroli/anaconda3/lib/python3.9/site-packages (2.9.0)\n",
      "Requirement already satisfied: matplotlib in /home/mazzaroli/anaconda3/lib/python3.9/site-packages (3.5.1)\n",
      "Requirement already satisfied: seaborn in /home/mazzaroli/anaconda3/lib/python3.9/site-packages (0.11.2)\n",
      "Requirement already satisfied: scikit-learn in /home/mazzaroli/anaconda3/lib/python3.9/site-packages (1.1.2)\n",
      "Requirement already satisfied: numpy<1.23.0,>=1.16.5 in /home/mazzaroli/anaconda3/lib/python3.9/site-packages (from scipy) (1.20.3)\n",
      "Requirement already satisfied: kiwisolver>=1.0.1 in /home/mazzaroli/anaconda3/lib/python3.9/site-packages (from matplotlib) (1.3.1)\n",
      "Requirement already satisfied: cycler>=0.10 in /home/mazzaroli/anaconda3/lib/python3.9/site-packages (from matplotlib) (0.10.0)\n",
      "Requirement already satisfied: packaging>=20.0 in /home/mazzaroli/anaconda3/lib/python3.9/site-packages (from matplotlib) (21.3)\n",
      "Requirement already satisfied: python-dateutil>=2.7 in /home/mazzaroli/anaconda3/lib/python3.9/site-packages (from matplotlib) (2.8.2)\n",
      "Requirement already satisfied: fonttools>=4.22.0 in /home/mazzaroli/anaconda3/lib/python3.9/site-packages (from matplotlib) (4.25.0)\n",
      "Requirement already satisfied: pyparsing>=2.2.1 in /home/mazzaroli/anaconda3/lib/python3.9/site-packages (from matplotlib) (3.0.4)\n",
      "Requirement already satisfied: pandas>=0.23 in /home/mazzaroli/anaconda3/lib/python3.9/site-packages (from seaborn) (1.3.4)\n",
      "Requirement already satisfied: threadpoolctl>=2.0.0 in /home/mazzaroli/anaconda3/lib/python3.9/site-packages (from scikit-learn) (2.2.0)\n",
      "Requirement already satisfied: joblib>=1.0.0 in /home/mazzaroli/anaconda3/lib/python3.9/site-packages (from scikit-learn) (1.1.0)\n",
      "Requirement already satisfied: six in /home/mazzaroli/anaconda3/lib/python3.9/site-packages (from cycler>=0.10->matplotlib) (1.16.0)\n",
      "Requirement already satisfied: pytz>=2017.3 in /home/mazzaroli/anaconda3/lib/python3.9/site-packages (from pandas>=0.23->seaborn) (2021.3)\n"
     ]
    }
   ],
   "source": [
    "!pip install --upgrade pip\n",
    "!pip install scipy pillow imageio matplotlib seaborn scikit-learn;"
   ]
  },
  {
   "attachments": {},
   "cell_type": "markdown",
   "metadata": {},
   "source": [
    "Puedes copiar y pegar en una de las celdas en Jupyter el siguiente código para ver un gráfico de la cantidad de pasajeros en avión entre 1949 y 1960 por mes."
   ]
  },
  {
   "cell_type": "code",
   "execution_count": 49,
   "metadata": {},
   "outputs": [
    {
     "data": {
      "application/javascript": "/* Put everything inside the global mpl namespace */\n/* global mpl */\nwindow.mpl = {};\n\nmpl.get_websocket_type = function () {\n    if (typeof WebSocket !== 'undefined') {\n        return WebSocket;\n    } else if (typeof MozWebSocket !== 'undefined') {\n        return MozWebSocket;\n    } else {\n        alert(\n            'Your browser does not have WebSocket support. ' +\n                'Please try Chrome, Safari or Firefox ≥ 6. ' +\n                'Firefox 4 and 5 are also supported but you ' +\n                'have to enable WebSockets in about:config.'\n        );\n    }\n};\n\nmpl.figure = function (figure_id, websocket, ondownload, parent_element) {\n    this.id = figure_id;\n\n    this.ws = websocket;\n\n    this.supports_binary = this.ws.binaryType !== undefined;\n\n    if (!this.supports_binary) {\n        var warnings = document.getElementById('mpl-warnings');\n        if (warnings) {\n            warnings.style.display = 'block';\n            warnings.textContent =\n                'This browser does not support binary websocket messages. ' +\n                'Performance may be slow.';\n        }\n    }\n\n    this.imageObj = new Image();\n\n    this.context = undefined;\n    this.message = undefined;\n    this.canvas = undefined;\n    this.rubberband_canvas = undefined;\n    this.rubberband_context = undefined;\n    this.format_dropdown = undefined;\n\n    this.image_mode = 'full';\n\n    this.root = document.createElement('div');\n    this.root.setAttribute('style', 'display: inline-block');\n    this._root_extra_style(this.root);\n\n    parent_element.appendChild(this.root);\n\n    this._init_header(this);\n    this._init_canvas(this);\n    this._init_toolbar(this);\n\n    var fig = this;\n\n    this.waiting = false;\n\n    this.ws.onopen = function () {\n        fig.send_message('supports_binary', { value: fig.supports_binary });\n        fig.send_message('send_image_mode', {});\n        if (fig.ratio !== 1) {\n            fig.send_message('set_device_pixel_ratio', {\n                device_pixel_ratio: fig.ratio,\n            });\n        }\n        fig.send_message('refresh', {});\n    };\n\n    this.imageObj.onload = function () {\n        if (fig.image_mode === 'full') {\n            // Full images could contain transparency (where diff images\n            // almost always do), so we need to clear the canvas so that\n            // there is no ghosting.\n            fig.context.clearRect(0, 0, fig.canvas.width, fig.canvas.height);\n        }\n        fig.context.drawImage(fig.imageObj, 0, 0);\n    };\n\n    this.imageObj.onunload = function () {\n        fig.ws.close();\n    };\n\n    this.ws.onmessage = this._make_on_message_function(this);\n\n    this.ondownload = ondownload;\n};\n\nmpl.figure.prototype._init_header = function () {\n    var titlebar = document.createElement('div');\n    titlebar.classList =\n        'ui-dialog-titlebar ui-widget-header ui-corner-all ui-helper-clearfix';\n    var titletext = document.createElement('div');\n    titletext.classList = 'ui-dialog-title';\n    titletext.setAttribute(\n        'style',\n        'width: 100%; text-align: center; padding: 3px;'\n    );\n    titlebar.appendChild(titletext);\n    this.root.appendChild(titlebar);\n    this.header = titletext;\n};\n\nmpl.figure.prototype._canvas_extra_style = function (_canvas_div) {};\n\nmpl.figure.prototype._root_extra_style = function (_canvas_div) {};\n\nmpl.figure.prototype._init_canvas = function () {\n    var fig = this;\n\n    var canvas_div = (this.canvas_div = document.createElement('div'));\n    canvas_div.setAttribute(\n        'style',\n        'border: 1px solid #ddd;' +\n            'box-sizing: content-box;' +\n            'clear: both;' +\n            'min-height: 1px;' +\n            'min-width: 1px;' +\n            'outline: 0;' +\n            'overflow: hidden;' +\n            'position: relative;' +\n            'resize: both;'\n    );\n\n    function on_keyboard_event_closure(name) {\n        return function (event) {\n            return fig.key_event(event, name);\n        };\n    }\n\n    canvas_div.addEventListener(\n        'keydown',\n        on_keyboard_event_closure('key_press')\n    );\n    canvas_div.addEventListener(\n        'keyup',\n        on_keyboard_event_closure('key_release')\n    );\n\n    this._canvas_extra_style(canvas_div);\n    this.root.appendChild(canvas_div);\n\n    var canvas = (this.canvas = document.createElement('canvas'));\n    canvas.classList.add('mpl-canvas');\n    canvas.setAttribute('style', 'box-sizing: content-box;');\n\n    this.context = canvas.getContext('2d');\n\n    var backingStore =\n        this.context.backingStorePixelRatio ||\n        this.context.webkitBackingStorePixelRatio ||\n        this.context.mozBackingStorePixelRatio ||\n        this.context.msBackingStorePixelRatio ||\n        this.context.oBackingStorePixelRatio ||\n        this.context.backingStorePixelRatio ||\n        1;\n\n    this.ratio = (window.devicePixelRatio || 1) / backingStore;\n\n    var rubberband_canvas = (this.rubberband_canvas = document.createElement(\n        'canvas'\n    ));\n    rubberband_canvas.setAttribute(\n        'style',\n        'box-sizing: content-box; position: absolute; left: 0; top: 0; z-index: 1;'\n    );\n\n    // Apply a ponyfill if ResizeObserver is not implemented by browser.\n    if (this.ResizeObserver === undefined) {\n        if (window.ResizeObserver !== undefined) {\n            this.ResizeObserver = window.ResizeObserver;\n        } else {\n            var obs = _JSXTOOLS_RESIZE_OBSERVER({});\n            this.ResizeObserver = obs.ResizeObserver;\n        }\n    }\n\n    this.resizeObserverInstance = new this.ResizeObserver(function (entries) {\n        var nentries = entries.length;\n        for (var i = 0; i < nentries; i++) {\n            var entry = entries[i];\n            var width, height;\n            if (entry.contentBoxSize) {\n                if (entry.contentBoxSize instanceof Array) {\n                    // Chrome 84 implements new version of spec.\n                    width = entry.contentBoxSize[0].inlineSize;\n                    height = entry.contentBoxSize[0].blockSize;\n                } else {\n                    // Firefox implements old version of spec.\n                    width = entry.contentBoxSize.inlineSize;\n                    height = entry.contentBoxSize.blockSize;\n                }\n            } else {\n                // Chrome <84 implements even older version of spec.\n                width = entry.contentRect.width;\n                height = entry.contentRect.height;\n            }\n\n            // Keep the size of the canvas and rubber band canvas in sync with\n            // the canvas container.\n            if (entry.devicePixelContentBoxSize) {\n                // Chrome 84 implements new version of spec.\n                canvas.setAttribute(\n                    'width',\n                    entry.devicePixelContentBoxSize[0].inlineSize\n                );\n                canvas.setAttribute(\n                    'height',\n                    entry.devicePixelContentBoxSize[0].blockSize\n                );\n            } else {\n                canvas.setAttribute('width', width * fig.ratio);\n                canvas.setAttribute('height', height * fig.ratio);\n            }\n            canvas.setAttribute(\n                'style',\n                'width: ' + width + 'px; height: ' + height + 'px;'\n            );\n\n            rubberband_canvas.setAttribute('width', width);\n            rubberband_canvas.setAttribute('height', height);\n\n            // And update the size in Python. We ignore the initial 0/0 size\n            // that occurs as the element is placed into the DOM, which should\n            // otherwise not happen due to the minimum size styling.\n            if (fig.ws.readyState == 1 && width != 0 && height != 0) {\n                fig.request_resize(width, height);\n            }\n        }\n    });\n    this.resizeObserverInstance.observe(canvas_div);\n\n    function on_mouse_event_closure(name) {\n        return function (event) {\n            return fig.mouse_event(event, name);\n        };\n    }\n\n    rubberband_canvas.addEventListener(\n        'mousedown',\n        on_mouse_event_closure('button_press')\n    );\n    rubberband_canvas.addEventListener(\n        'mouseup',\n        on_mouse_event_closure('button_release')\n    );\n    rubberband_canvas.addEventListener(\n        'dblclick',\n        on_mouse_event_closure('dblclick')\n    );\n    // Throttle sequential mouse events to 1 every 20ms.\n    rubberband_canvas.addEventListener(\n        'mousemove',\n        on_mouse_event_closure('motion_notify')\n    );\n\n    rubberband_canvas.addEventListener(\n        'mouseenter',\n        on_mouse_event_closure('figure_enter')\n    );\n    rubberband_canvas.addEventListener(\n        'mouseleave',\n        on_mouse_event_closure('figure_leave')\n    );\n\n    canvas_div.addEventListener('wheel', function (event) {\n        if (event.deltaY < 0) {\n            event.step = 1;\n        } else {\n            event.step = -1;\n        }\n        on_mouse_event_closure('scroll')(event);\n    });\n\n    canvas_div.appendChild(canvas);\n    canvas_div.appendChild(rubberband_canvas);\n\n    this.rubberband_context = rubberband_canvas.getContext('2d');\n    this.rubberband_context.strokeStyle = '#000000';\n\n    this._resize_canvas = function (width, height, forward) {\n        if (forward) {\n            canvas_div.style.width = width + 'px';\n            canvas_div.style.height = height + 'px';\n        }\n    };\n\n    // Disable right mouse context menu.\n    this.rubberband_canvas.addEventListener('contextmenu', function (_e) {\n        event.preventDefault();\n        return false;\n    });\n\n    function set_focus() {\n        canvas.focus();\n        canvas_div.focus();\n    }\n\n    window.setTimeout(set_focus, 100);\n};\n\nmpl.figure.prototype._init_toolbar = function () {\n    var fig = this;\n\n    var toolbar = document.createElement('div');\n    toolbar.classList = 'mpl-toolbar';\n    this.root.appendChild(toolbar);\n\n    function on_click_closure(name) {\n        return function (_event) {\n            return fig.toolbar_button_onclick(name);\n        };\n    }\n\n    function on_mouseover_closure(tooltip) {\n        return function (event) {\n            if (!event.currentTarget.disabled) {\n                return fig.toolbar_button_onmouseover(tooltip);\n            }\n        };\n    }\n\n    fig.buttons = {};\n    var buttonGroup = document.createElement('div');\n    buttonGroup.classList = 'mpl-button-group';\n    for (var toolbar_ind in mpl.toolbar_items) {\n        var name = mpl.toolbar_items[toolbar_ind][0];\n        var tooltip = mpl.toolbar_items[toolbar_ind][1];\n        var image = mpl.toolbar_items[toolbar_ind][2];\n        var method_name = mpl.toolbar_items[toolbar_ind][3];\n\n        if (!name) {\n            /* Instead of a spacer, we start a new button group. */\n            if (buttonGroup.hasChildNodes()) {\n                toolbar.appendChild(buttonGroup);\n            }\n            buttonGroup = document.createElement('div');\n            buttonGroup.classList = 'mpl-button-group';\n            continue;\n        }\n\n        var button = (fig.buttons[name] = document.createElement('button'));\n        button.classList = 'mpl-widget';\n        button.setAttribute('role', 'button');\n        button.setAttribute('aria-disabled', 'false');\n        button.addEventListener('click', on_click_closure(method_name));\n        button.addEventListener('mouseover', on_mouseover_closure(tooltip));\n\n        var icon_img = document.createElement('img');\n        icon_img.src = '_images/' + image + '.png';\n        icon_img.srcset = '_images/' + image + '_large.png 2x';\n        icon_img.alt = tooltip;\n        button.appendChild(icon_img);\n\n        buttonGroup.appendChild(button);\n    }\n\n    if (buttonGroup.hasChildNodes()) {\n        toolbar.appendChild(buttonGroup);\n    }\n\n    var fmt_picker = document.createElement('select');\n    fmt_picker.classList = 'mpl-widget';\n    toolbar.appendChild(fmt_picker);\n    this.format_dropdown = fmt_picker;\n\n    for (var ind in mpl.extensions) {\n        var fmt = mpl.extensions[ind];\n        var option = document.createElement('option');\n        option.selected = fmt === mpl.default_extension;\n        option.innerHTML = fmt;\n        fmt_picker.appendChild(option);\n    }\n\n    var status_bar = document.createElement('span');\n    status_bar.classList = 'mpl-message';\n    toolbar.appendChild(status_bar);\n    this.message = status_bar;\n};\n\nmpl.figure.prototype.request_resize = function (x_pixels, y_pixels) {\n    // Request matplotlib to resize the figure. Matplotlib will then trigger a resize in the client,\n    // which will in turn request a refresh of the image.\n    this.send_message('resize', { width: x_pixels, height: y_pixels });\n};\n\nmpl.figure.prototype.send_message = function (type, properties) {\n    properties['type'] = type;\n    properties['figure_id'] = this.id;\n    this.ws.send(JSON.stringify(properties));\n};\n\nmpl.figure.prototype.send_draw_message = function () {\n    if (!this.waiting) {\n        this.waiting = true;\n        this.ws.send(JSON.stringify({ type: 'draw', figure_id: this.id }));\n    }\n};\n\nmpl.figure.prototype.handle_save = function (fig, _msg) {\n    var format_dropdown = fig.format_dropdown;\n    var format = format_dropdown.options[format_dropdown.selectedIndex].value;\n    fig.ondownload(fig, format);\n};\n\nmpl.figure.prototype.handle_resize = function (fig, msg) {\n    var size = msg['size'];\n    if (size[0] !== fig.canvas.width || size[1] !== fig.canvas.height) {\n        fig._resize_canvas(size[0], size[1], msg['forward']);\n        fig.send_message('refresh', {});\n    }\n};\n\nmpl.figure.prototype.handle_rubberband = function (fig, msg) {\n    var x0 = msg['x0'] / fig.ratio;\n    var y0 = (fig.canvas.height - msg['y0']) / fig.ratio;\n    var x1 = msg['x1'] / fig.ratio;\n    var y1 = (fig.canvas.height - msg['y1']) / fig.ratio;\n    x0 = Math.floor(x0) + 0.5;\n    y0 = Math.floor(y0) + 0.5;\n    x1 = Math.floor(x1) + 0.5;\n    y1 = Math.floor(y1) + 0.5;\n    var min_x = Math.min(x0, x1);\n    var min_y = Math.min(y0, y1);\n    var width = Math.abs(x1 - x0);\n    var height = Math.abs(y1 - y0);\n\n    fig.rubberband_context.clearRect(\n        0,\n        0,\n        fig.canvas.width / fig.ratio,\n        fig.canvas.height / fig.ratio\n    );\n\n    fig.rubberband_context.strokeRect(min_x, min_y, width, height);\n};\n\nmpl.figure.prototype.handle_figure_label = function (fig, msg) {\n    // Updates the figure title.\n    fig.header.textContent = msg['label'];\n};\n\nmpl.figure.prototype.handle_cursor = function (fig, msg) {\n    fig.rubberband_canvas.style.cursor = msg['cursor'];\n};\n\nmpl.figure.prototype.handle_message = function (fig, msg) {\n    fig.message.textContent = msg['message'];\n};\n\nmpl.figure.prototype.handle_draw = function (fig, _msg) {\n    // Request the server to send over a new figure.\n    fig.send_draw_message();\n};\n\nmpl.figure.prototype.handle_image_mode = function (fig, msg) {\n    fig.image_mode = msg['mode'];\n};\n\nmpl.figure.prototype.handle_history_buttons = function (fig, msg) {\n    for (var key in msg) {\n        if (!(key in fig.buttons)) {\n            continue;\n        }\n        fig.buttons[key].disabled = !msg[key];\n        fig.buttons[key].setAttribute('aria-disabled', !msg[key]);\n    }\n};\n\nmpl.figure.prototype.handle_navigate_mode = function (fig, msg) {\n    if (msg['mode'] === 'PAN') {\n        fig.buttons['Pan'].classList.add('active');\n        fig.buttons['Zoom'].classList.remove('active');\n    } else if (msg['mode'] === 'ZOOM') {\n        fig.buttons['Pan'].classList.remove('active');\n        fig.buttons['Zoom'].classList.add('active');\n    } else {\n        fig.buttons['Pan'].classList.remove('active');\n        fig.buttons['Zoom'].classList.remove('active');\n    }\n};\n\nmpl.figure.prototype.updated_canvas_event = function () {\n    // Called whenever the canvas gets updated.\n    this.send_message('ack', {});\n};\n\n// A function to construct a web socket function for onmessage handling.\n// Called in the figure constructor.\nmpl.figure.prototype._make_on_message_function = function (fig) {\n    return function socket_on_message(evt) {\n        if (evt.data instanceof Blob) {\n            var img = evt.data;\n            if (img.type !== 'image/png') {\n                /* FIXME: We get \"Resource interpreted as Image but\n                 * transferred with MIME type text/plain:\" errors on\n                 * Chrome.  But how to set the MIME type?  It doesn't seem\n                 * to be part of the websocket stream */\n                img.type = 'image/png';\n            }\n\n            /* Free the memory for the previous frames */\n            if (fig.imageObj.src) {\n                (window.URL || window.webkitURL).revokeObjectURL(\n                    fig.imageObj.src\n                );\n            }\n\n            fig.imageObj.src = (window.URL || window.webkitURL).createObjectURL(\n                img\n            );\n            fig.updated_canvas_event();\n            fig.waiting = false;\n            return;\n        } else if (\n            typeof evt.data === 'string' &&\n            evt.data.slice(0, 21) === 'data:image/png;base64'\n        ) {\n            fig.imageObj.src = evt.data;\n            fig.updated_canvas_event();\n            fig.waiting = false;\n            return;\n        }\n\n        var msg = JSON.parse(evt.data);\n        var msg_type = msg['type'];\n\n        // Call the  \"handle_{type}\" callback, which takes\n        // the figure and JSON message as its only arguments.\n        try {\n            var callback = fig['handle_' + msg_type];\n        } catch (e) {\n            console.log(\n                \"No handler for the '\" + msg_type + \"' message type: \",\n                msg\n            );\n            return;\n        }\n\n        if (callback) {\n            try {\n                // console.log(\"Handling '\" + msg_type + \"' message: \", msg);\n                callback(fig, msg);\n            } catch (e) {\n                console.log(\n                    \"Exception inside the 'handler_\" + msg_type + \"' callback:\",\n                    e,\n                    e.stack,\n                    msg\n                );\n            }\n        }\n    };\n};\n\n// from https://stackoverflow.com/questions/1114465/getting-mouse-location-in-canvas\nmpl.findpos = function (e) {\n    //this section is from http://www.quirksmode.org/js/events_properties.html\n    var targ;\n    if (!e) {\n        e = window.event;\n    }\n    if (e.target) {\n        targ = e.target;\n    } else if (e.srcElement) {\n        targ = e.srcElement;\n    }\n    if (targ.nodeType === 3) {\n        // defeat Safari bug\n        targ = targ.parentNode;\n    }\n\n    // pageX,Y are the mouse positions relative to the document\n    var boundingRect = targ.getBoundingClientRect();\n    var x = e.pageX - (boundingRect.left + document.body.scrollLeft);\n    var y = e.pageY - (boundingRect.top + document.body.scrollTop);\n\n    return { x: x, y: y };\n};\n\n/*\n * return a copy of an object with only non-object keys\n * we need this to avoid circular references\n * https://stackoverflow.com/a/24161582/3208463\n */\nfunction simpleKeys(original) {\n    return Object.keys(original).reduce(function (obj, key) {\n        if (typeof original[key] !== 'object') {\n            obj[key] = original[key];\n        }\n        return obj;\n    }, {});\n}\n\nmpl.figure.prototype.mouse_event = function (event, name) {\n    var canvas_pos = mpl.findpos(event);\n\n    if (name === 'button_press') {\n        this.canvas.focus();\n        this.canvas_div.focus();\n    }\n\n    var x = canvas_pos.x * this.ratio;\n    var y = canvas_pos.y * this.ratio;\n\n    this.send_message(name, {\n        x: x,\n        y: y,\n        button: event.button,\n        step: event.step,\n        guiEvent: simpleKeys(event),\n    });\n\n    /* This prevents the web browser from automatically changing to\n     * the text insertion cursor when the button is pressed.  We want\n     * to control all of the cursor setting manually through the\n     * 'cursor' event from matplotlib */\n    event.preventDefault();\n    return false;\n};\n\nmpl.figure.prototype._key_event_extra = function (_event, _name) {\n    // Handle any extra behaviour associated with a key event\n};\n\nmpl.figure.prototype.key_event = function (event, name) {\n    // Prevent repeat events\n    if (name === 'key_press') {\n        if (event.key === this._key) {\n            return;\n        } else {\n            this._key = event.key;\n        }\n    }\n    if (name === 'key_release') {\n        this._key = null;\n    }\n\n    var value = '';\n    if (event.ctrlKey && event.key !== 'Control') {\n        value += 'ctrl+';\n    }\n    else if (event.altKey && event.key !== 'Alt') {\n        value += 'alt+';\n    }\n    else if (event.shiftKey && event.key !== 'Shift') {\n        value += 'shift+';\n    }\n\n    value += 'k' + event.key;\n\n    this._key_event_extra(event, name);\n\n    this.send_message(name, { key: value, guiEvent: simpleKeys(event) });\n    return false;\n};\n\nmpl.figure.prototype.toolbar_button_onclick = function (name) {\n    if (name === 'download') {\n        this.handle_save(this, null);\n    } else {\n        this.send_message('toolbar_button', { name: name });\n    }\n};\n\nmpl.figure.prototype.toolbar_button_onmouseover = function (tooltip) {\n    this.message.textContent = tooltip;\n};\n\n///////////////// REMAINING CONTENT GENERATED BY embed_js.py /////////////////\n// prettier-ignore\nvar _JSXTOOLS_RESIZE_OBSERVER=function(A){var t,i=new WeakMap,n=new WeakMap,a=new WeakMap,r=new WeakMap,o=new Set;function s(e){if(!(this instanceof s))throw new TypeError(\"Constructor requires 'new' operator\");i.set(this,e)}function h(){throw new TypeError(\"Function is not a constructor\")}function c(e,t,i,n){e=0 in arguments?Number(arguments[0]):0,t=1 in arguments?Number(arguments[1]):0,i=2 in arguments?Number(arguments[2]):0,n=3 in arguments?Number(arguments[3]):0,this.right=(this.x=this.left=e)+(this.width=i),this.bottom=(this.y=this.top=t)+(this.height=n),Object.freeze(this)}function d(){t=requestAnimationFrame(d);var s=new WeakMap,p=new Set;o.forEach((function(t){r.get(t).forEach((function(i){var r=t instanceof window.SVGElement,o=a.get(t),d=r?0:parseFloat(o.paddingTop),f=r?0:parseFloat(o.paddingRight),l=r?0:parseFloat(o.paddingBottom),u=r?0:parseFloat(o.paddingLeft),g=r?0:parseFloat(o.borderTopWidth),m=r?0:parseFloat(o.borderRightWidth),w=r?0:parseFloat(o.borderBottomWidth),b=u+f,F=d+l,v=(r?0:parseFloat(o.borderLeftWidth))+m,W=g+w,y=r?0:t.offsetHeight-W-t.clientHeight,E=r?0:t.offsetWidth-v-t.clientWidth,R=b+v,z=F+W,M=r?t.width:parseFloat(o.width)-R-E,O=r?t.height:parseFloat(o.height)-z-y;if(n.has(t)){var k=n.get(t);if(k[0]===M&&k[1]===O)return}n.set(t,[M,O]);var S=Object.create(h.prototype);S.target=t,S.contentRect=new c(u,d,M,O),s.has(i)||(s.set(i,[]),p.add(i)),s.get(i).push(S)}))})),p.forEach((function(e){i.get(e).call(e,s.get(e),e)}))}return s.prototype.observe=function(i){if(i instanceof window.Element){r.has(i)||(r.set(i,new Set),o.add(i),a.set(i,window.getComputedStyle(i)));var n=r.get(i);n.has(this)||n.add(this),cancelAnimationFrame(t),t=requestAnimationFrame(d)}},s.prototype.unobserve=function(i){if(i instanceof window.Element&&r.has(i)){var n=r.get(i);n.has(this)&&(n.delete(this),n.size||(r.delete(i),o.delete(i))),n.size||r.delete(i),o.size||cancelAnimationFrame(t)}},A.DOMRectReadOnly=c,A.ResizeObserver=s,A.ResizeObserverEntry=h,A}; // eslint-disable-line\nmpl.toolbar_items = [[\"Home\", \"Reset original view\", \"fa fa-home icon-home\", \"home\"], [\"Back\", \"Back to previous view\", \"fa fa-arrow-left icon-arrow-left\", \"back\"], [\"Forward\", \"Forward to next view\", \"fa fa-arrow-right icon-arrow-right\", \"forward\"], [\"\", \"\", \"\", \"\"], [\"Pan\", \"Left button pans, Right button zooms\\nx/y fixes axis, CTRL fixes aspect\", \"fa fa-arrows icon-move\", \"pan\"], [\"Zoom\", \"Zoom to rectangle\\nx/y fixes axis\", \"fa fa-square-o icon-check-empty\", \"zoom\"], [\"\", \"\", \"\", \"\"], [\"Download\", \"Download plot\", \"fa fa-floppy-o icon-save\", \"download\"]];\n\nmpl.extensions = [\"eps\", \"jpeg\", \"pgf\", \"pdf\", \"png\", \"ps\", \"raw\", \"svg\", \"tif\"];\n\nmpl.default_extension = \"png\";/* global mpl */\n\nvar comm_websocket_adapter = function (comm) {\n    // Create a \"websocket\"-like object which calls the given IPython comm\n    // object with the appropriate methods. Currently this is a non binary\n    // socket, so there is still some room for performance tuning.\n    var ws = {};\n\n    ws.binaryType = comm.kernel.ws.binaryType;\n    ws.readyState = comm.kernel.ws.readyState;\n    function updateReadyState(_event) {\n        if (comm.kernel.ws) {\n            ws.readyState = comm.kernel.ws.readyState;\n        } else {\n            ws.readyState = 3; // Closed state.\n        }\n    }\n    comm.kernel.ws.addEventListener('open', updateReadyState);\n    comm.kernel.ws.addEventListener('close', updateReadyState);\n    comm.kernel.ws.addEventListener('error', updateReadyState);\n\n    ws.close = function () {\n        comm.close();\n    };\n    ws.send = function (m) {\n        //console.log('sending', m);\n        comm.send(m);\n    };\n    // Register the callback with on_msg.\n    comm.on_msg(function (msg) {\n        //console.log('receiving', msg['content']['data'], msg);\n        var data = msg['content']['data'];\n        if (data['blob'] !== undefined) {\n            data = {\n                data: new Blob(msg['buffers'], { type: data['blob'] }),\n            };\n        }\n        // Pass the mpl event to the overridden (by mpl) onmessage function.\n        ws.onmessage(data);\n    });\n    return ws;\n};\n\nmpl.mpl_figure_comm = function (comm, msg) {\n    // This is the function which gets called when the mpl process\n    // starts-up an IPython Comm through the \"matplotlib\" channel.\n\n    var id = msg.content.data.id;\n    // Get hold of the div created by the display call when the Comm\n    // socket was opened in Python.\n    var element = document.getElementById(id);\n    var ws_proxy = comm_websocket_adapter(comm);\n\n    function ondownload(figure, _format) {\n        window.open(figure.canvas.toDataURL());\n    }\n\n    var fig = new mpl.figure(id, ws_proxy, ondownload, element);\n\n    // Call onopen now - mpl needs it, as it is assuming we've passed it a real\n    // web socket which is closed, not our websocket->open comm proxy.\n    ws_proxy.onopen();\n\n    fig.parent_element = element;\n    fig.cell_info = mpl.find_output_cell(\"<div id='\" + id + \"'></div>\");\n    if (!fig.cell_info) {\n        console.error('Failed to find cell for figure', id, fig);\n        return;\n    }\n    fig.cell_info[0].output_area.element.on(\n        'cleared',\n        { fig: fig },\n        fig._remove_fig_handler\n    );\n};\n\nmpl.figure.prototype.handle_close = function (fig, msg) {\n    var width = fig.canvas.width / fig.ratio;\n    fig.cell_info[0].output_area.element.off(\n        'cleared',\n        fig._remove_fig_handler\n    );\n    fig.resizeObserverInstance.unobserve(fig.canvas_div);\n\n    // Update the output cell to use the data from the current canvas.\n    fig.push_to_output();\n    var dataURL = fig.canvas.toDataURL();\n    // Re-enable the keyboard manager in IPython - without this line, in FF,\n    // the notebook keyboard shortcuts fail.\n    IPython.keyboard_manager.enable();\n    fig.parent_element.innerHTML =\n        '<img src=\"' + dataURL + '\" width=\"' + width + '\">';\n    fig.close_ws(fig, msg);\n};\n\nmpl.figure.prototype.close_ws = function (fig, msg) {\n    fig.send_message('closing', msg);\n    // fig.ws.close()\n};\n\nmpl.figure.prototype.push_to_output = function (_remove_interactive) {\n    // Turn the data on the canvas into data in the output cell.\n    var width = this.canvas.width / this.ratio;\n    var dataURL = this.canvas.toDataURL();\n    this.cell_info[1]['text/html'] =\n        '<img src=\"' + dataURL + '\" width=\"' + width + '\">';\n};\n\nmpl.figure.prototype.updated_canvas_event = function () {\n    // Tell IPython that the notebook contents must change.\n    IPython.notebook.set_dirty(true);\n    this.send_message('ack', {});\n    var fig = this;\n    // Wait a second, then push the new image to the DOM so\n    // that it is saved nicely (might be nice to debounce this).\n    setTimeout(function () {\n        fig.push_to_output();\n    }, 1000);\n};\n\nmpl.figure.prototype._init_toolbar = function () {\n    var fig = this;\n\n    var toolbar = document.createElement('div');\n    toolbar.classList = 'btn-toolbar';\n    this.root.appendChild(toolbar);\n\n    function on_click_closure(name) {\n        return function (_event) {\n            return fig.toolbar_button_onclick(name);\n        };\n    }\n\n    function on_mouseover_closure(tooltip) {\n        return function (event) {\n            if (!event.currentTarget.disabled) {\n                return fig.toolbar_button_onmouseover(tooltip);\n            }\n        };\n    }\n\n    fig.buttons = {};\n    var buttonGroup = document.createElement('div');\n    buttonGroup.classList = 'btn-group';\n    var button;\n    for (var toolbar_ind in mpl.toolbar_items) {\n        var name = mpl.toolbar_items[toolbar_ind][0];\n        var tooltip = mpl.toolbar_items[toolbar_ind][1];\n        var image = mpl.toolbar_items[toolbar_ind][2];\n        var method_name = mpl.toolbar_items[toolbar_ind][3];\n\n        if (!name) {\n            /* Instead of a spacer, we start a new button group. */\n            if (buttonGroup.hasChildNodes()) {\n                toolbar.appendChild(buttonGroup);\n            }\n            buttonGroup = document.createElement('div');\n            buttonGroup.classList = 'btn-group';\n            continue;\n        }\n\n        button = fig.buttons[name] = document.createElement('button');\n        button.classList = 'btn btn-default';\n        button.href = '#';\n        button.title = name;\n        button.innerHTML = '<i class=\"fa ' + image + ' fa-lg\"></i>';\n        button.addEventListener('click', on_click_closure(method_name));\n        button.addEventListener('mouseover', on_mouseover_closure(tooltip));\n        buttonGroup.appendChild(button);\n    }\n\n    if (buttonGroup.hasChildNodes()) {\n        toolbar.appendChild(buttonGroup);\n    }\n\n    // Add the status bar.\n    var status_bar = document.createElement('span');\n    status_bar.classList = 'mpl-message pull-right';\n    toolbar.appendChild(status_bar);\n    this.message = status_bar;\n\n    // Add the close button to the window.\n    var buttongrp = document.createElement('div');\n    buttongrp.classList = 'btn-group inline pull-right';\n    button = document.createElement('button');\n    button.classList = 'btn btn-mini btn-primary';\n    button.href = '#';\n    button.title = 'Stop Interaction';\n    button.innerHTML = '<i class=\"fa fa-power-off icon-remove icon-large\"></i>';\n    button.addEventListener('click', function (_evt) {\n        fig.handle_close(fig, {});\n    });\n    button.addEventListener(\n        'mouseover',\n        on_mouseover_closure('Stop Interaction')\n    );\n    buttongrp.appendChild(button);\n    var titlebar = this.root.querySelector('.ui-dialog-titlebar');\n    titlebar.insertBefore(buttongrp, titlebar.firstChild);\n};\n\nmpl.figure.prototype._remove_fig_handler = function (event) {\n    var fig = event.data.fig;\n    if (event.target !== this) {\n        // Ignore bubbled events from children.\n        return;\n    }\n    fig.close_ws(fig, {});\n};\n\nmpl.figure.prototype._root_extra_style = function (el) {\n    el.style.boxSizing = 'content-box'; // override notebook setting of border-box.\n};\n\nmpl.figure.prototype._canvas_extra_style = function (el) {\n    // this is important to make the div 'focusable\n    el.setAttribute('tabindex', 0);\n    // reach out to IPython and tell the keyboard manager to turn it's self\n    // off when our div gets focus\n\n    // location in version 3\n    if (IPython.notebook.keyboard_manager) {\n        IPython.notebook.keyboard_manager.register_events(el);\n    } else {\n        // location in version 2\n        IPython.keyboard_manager.register_events(el);\n    }\n};\n\nmpl.figure.prototype._key_event_extra = function (event, _name) {\n    // Check for shift+enter\n    if (event.shiftKey && event.which === 13) {\n        this.canvas_div.blur();\n        // select the cell after this one\n        var index = IPython.notebook.find_cell_index(this.cell_info[0]);\n        IPython.notebook.select(index + 1);\n    }\n};\n\nmpl.figure.prototype.handle_save = function (fig, _msg) {\n    fig.ondownload(fig, null);\n};\n\nmpl.find_output_cell = function (html_output) {\n    // Return the cell and output element which can be found *uniquely* in the notebook.\n    // Note - this is a bit hacky, but it is done because the \"notebook_saving.Notebook\"\n    // IPython event is triggered only after the cells have been serialised, which for\n    // our purposes (turning an active figure into a static one), is too late.\n    var cells = IPython.notebook.get_cells();\n    var ncells = cells.length;\n    for (var i = 0; i < ncells; i++) {\n        var cell = cells[i];\n        if (cell.cell_type === 'code') {\n            for (var j = 0; j < cell.output_area.outputs.length; j++) {\n                var data = cell.output_area.outputs[j];\n                if (data.data) {\n                    // IPython >= 3 moved mimebundle to data attribute of output\n                    data = data.data;\n                }\n                if (data['text/html'] === html_output) {\n                    return [cell, data, j];\n                }\n            }\n        }\n    }\n};\n\n// Register the function which deals with the matplotlib target/channel.\n// The kernel may be null if the page has been refreshed.\nif (IPython.notebook.kernel !== null) {\n    IPython.notebook.kernel.comm_manager.register_target(\n        'matplotlib',\n        mpl.mpl_figure_comm\n    );\n}\n",
      "text/plain": [
       "<IPython.core.display.Javascript object>"
      ]
     },
     "metadata": {},
     "output_type": "display_data"
    },
    {
     "data": {
      "text/html": [
       "<div id='7e08c0e1-390f-4ea6-8c25-5accda3f308d'></div>"
      ],
      "text/plain": [
       "<IPython.core.display.HTML object>"
      ]
     },
     "metadata": {},
     "output_type": "display_data"
    }
   ],
   "source": [
    "import seaborn as sns\n",
    "vuelos = sns.load_dataset(\"flights\")\n",
    "vuelos = vuelos.pivot(\"month\", \"year\", \"passengers\")\n",
    "ax = sns.heatmap(vuelos)"
   ]
  },
  {
   "attachments": {},
   "cell_type": "markdown",
   "metadata": {},
   "source": [
    "## Creando las bases, escalares, vectores y matrices. ¿Qué es un tensor? ¿Cómo se representa?\n",
    "\n",
    "### [Escalar (matemática)](https://es.wikipedia.org/wiki/Escalar_(matem%C3%A1tica))\n",
    "\n",
    "Se denomina **escalar** a los números reales, constantes o complejos que sirven para describir un fenómeno físico (o de otro tipo) con magnitud. Las magnitudes escalares son aquellas representables por una escala numérica, en la que cada valor específico acusa un grado mayor o menor de la escala. Por ejemplo: temperatura, longitud, velocidad, fuerza, etc\n",
    "\n",
    "<img src='https://upload.wikimedia.org/wikipedia/commons/thumb/4/47/N%C3%BAmeros_reales.svg/1280px-N%C3%BAmeros_reales.svg.png' width=300>\n",
    "<img src='https://upload.wikimedia.org/wikipedia/commons/thumb/6/69/Complex_conjugate_picture.svg/1280px-Complex_conjugate_picture.svg.png' width=300>\n",
    "\n",
    "> 💡 En **Python**, un escalar puede ser algo completamente distinto, puede representarse como un número entero (integer), flotante (float), un número complejo, un texto (string) o también un elemento nulo (Null)"
   ]
  },
  {
   "attachments": {},
   "cell_type": "markdown",
   "metadata": {},
   "source": [
    "\n",
    "### [Vector](https://es.wikipedia.org/wiki/Espacio_vectorial)\n",
    "\n",
    "**Un vector es un elemento de un espacio vectorial**. En la práctica, cuando se tratan con vectores usualmente se expresan a una base vectorial. Así fijada un espacio vectorial específico y una base dentro del mismo:\n",
    "\n",
    "**Un vector (real) de dimensión $n$, viene representado por una tupla de números reales** (que se llaman componentes del vector).\n",
    "\n",
    "<img src='https://upload.wikimedia.org/wikipedia/commons/thumb/f/f3/Vector_01.svg/1280px-Vector_01.svg.png' width=300>\n",
    "\n",
    "> 💡 Por lo tanto podemos decir que **un vector es una lista de números** (puede estar en una fila o columna)\n",
    "\n",
    "\n",
    "### [Matriz](https://es.wikipedia.org/wiki/Matriz_(matem%C3%A1tica))\n",
    "\n",
    "En matemática, **una matriz es un conjunto bidimensional de números**. Dado que puede definirse tanto la suma como el producto de matrices, en mayor generalidad se dice que son elementos de un anillo. Una matriz se representa por medio de una letra mayúscula $(A,B, …)$ y sus elementos con la misma letra en minúscula $(a,b, …)$, con un doble subíndice donde el primero indica la fila y el segundo la columna a la que pertenece.\n",
    "\n",
    "${\\displaystyle \\mathbf {A} ={\\begin{pmatrix}a_{11}&a_{12}&\\cdots &a_{1n}\\\\a_{21}&a_{22}&\\cdots &a_{2n}\\\\\\vdots &\\vdots &\\ddots &\\vdots \\\\a_{m1}&a_{m2}&\\cdots &a_{mn}\\\\\\end{pmatrix}}}$\n",
    "\n",
    "Los elementos individuales de una matriz $m\\; x\\; n$, se denotan a menudo por $a_{ij}$, donde el máximo valor de $i$ es $m$, y el máximo valor de $j$ es $n$. Siempre que la matriz tenga el mismo número de filas y de columnas que otra matriz, estas se pueden sumar o restar elemento por elemento.\n",
    "\n",
    "> 💡 Por lo tanto podemos decir que **una matriz es un arreglo de números** (una o más filas, una o más columnas)\n",
    "\n",
    "### [Tensor](https://es.wikipedia.org/wiki/Tensor)\n",
    "\n",
    "En matemáticas, un tensor es un objeto algebraico que describe una relación multilineal entre conjuntos de objetos algebraicos relacionados con un espacio vectorial.\n",
    "\n",
    "\n",
    "Aunque aparentemente diferentes, los diversos enfoques para definir tensores describen el mismo concepto geométrico utilizando un lenguaje diferente y en diferentes niveles de abstracción. Por ejemplo, los tensores se definen y analizan para aplicaciones estadísticas y de aprendizaje automático.**De ese modo el tensor recibe dimensionalidad**. **Un tensor de primer rango es de magnitud escalar**, por ejemplo, mientras que **un tensor de segundo rango se vuelve un vector con una matriz de dos dimensiones**. Un n-contra-tensor no es más que un tipo particular de tensor: un tensor contravariante de valencia ${\\left[{\\begin{array}{c}n\\\\0\\end{array}}\\right]}$. Para n = 1 tenemos un tensor elemental: un vector columna.\n",
    "\n",
    "> 💡 Por lo tanto podemos decir que **un tensor es un arreglo de una o $N$ dimensiones**.\n",
    "\n",
    "<img src='https://upload.wikimedia.org/wikipedia/commons/thumb/4/45/Components_stress_tensor.svg/450px-Components_stress_tensor.svg.png' width=400>"
   ]
  },
  {
   "attachments": {},
   "cell_type": "markdown",
   "metadata": {},
   "source": [
    "### Escalar en Python"
   ]
  },
  {
   "cell_type": "code",
   "execution_count": 50,
   "metadata": {},
   "outputs": [
    {
     "name": "stdout",
     "output_type": "stream",
     "text": [
      "5.678\n"
     ]
    }
   ],
   "source": [
    "escalar = 5.678\n",
    "print(escalar)"
   ]
  },
  {
   "cell_type": "code",
   "execution_count": 51,
   "metadata": {},
   "outputs": [
    {
     "name": "stdout",
     "output_type": "stream",
     "text": [
      "True\n",
      "<class 'bool'>\n"
     ]
    }
   ],
   "source": [
    "escalar_python = True\n",
    "print(escalar_python)\n",
    "print(type(escalar_python))"
   ]
  },
  {
   "attachments": {},
   "cell_type": "markdown",
   "metadata": {},
   "source": [
    "### Vector en Python\n",
    "\n",
    "Nos ayudaremos de la libreria de **NumPy** para poder crear nuestro vector"
   ]
  },
  {
   "cell_type": "code",
   "execution_count": 52,
   "metadata": {},
   "outputs": [],
   "source": [
    "import numpy as np"
   ]
  },
  {
   "cell_type": "code",
   "execution_count": 53,
   "metadata": {},
   "outputs": [
    {
     "name": "stdout",
     "output_type": "stream",
     "text": [
      "[1 2 3 4]\n"
     ]
    }
   ],
   "source": [
    "vector = np.array([1,2,3,4])\n",
    "print(vector)"
   ]
  },
  {
   "attachments": {},
   "cell_type": "markdown",
   "metadata": {},
   "source": [
    "### Matriz en Python"
   ]
  },
  {
   "cell_type": "code",
   "execution_count": 54,
   "metadata": {},
   "outputs": [
    {
     "name": "stdout",
     "output_type": "stream",
     "text": [
      "[[1 2 3]\n",
      " [4 5 6]\n",
      " [7 8 9]]\n"
     ]
    }
   ],
   "source": [
    "matriz = np.array([[1,2,3],[4,5,6],[7,8,9]])\n",
    "print(matriz)"
   ]
  },
  {
   "attachments": {},
   "cell_type": "markdown",
   "metadata": {},
   "source": [
    "### Tensor en Python"
   ]
  },
  {
   "cell_type": "code",
   "execution_count": 55,
   "metadata": {},
   "outputs": [
    {
     "name": "stdout",
     "output_type": "stream",
     "text": [
      "[[[ 1  2  3]\n",
      "  [ 4  5  6]\n",
      "  [ 7  8  9]]\n",
      "\n",
      " [[11 12 13]\n",
      "  [14 15 16]\n",
      "  [17 18 19]]\n",
      "\n",
      " [[21 22 23]\n",
      "  [24 25 26]\n",
      "  [27 28 29]]]\n"
     ]
    }
   ],
   "source": [
    "tensor = np.array(\n",
    "    [\n",
    "        [[1,2,3],[4,5,6],[7,8,9]],\n",
    "        [[11,12,13],[14,15,16],[17,18,19]],\n",
    "        [[21,22,23],[24,25,26],[27,28,29]],\n",
    "    ])\n",
    "print(tensor) "
   ]
  },
  {
   "attachments": {},
   "cell_type": "markdown",
   "metadata": {},
   "source": [
    "**¿Que es lo que representamos dentro del vector, matriz o tensores?**\n",
    "\n",
    "**Todo depende de que tipo de información estemos generando**, ya que no podemos simplemente asumir que los datos representan algo solo por encontrarse presentes.\n",
    "\n",
    "Para este caso de práctica representaremos el contenido dentro del tensor como datos de colores para realizar una imagen."
   ]
  },
  {
   "cell_type": "code",
   "execution_count": 56,
   "metadata": {},
   "outputs": [],
   "source": [
    "%matplotlib inline\n",
    "\n",
    "import matplotlib.pyplot as plt"
   ]
  },
  {
   "cell_type": "code",
   "execution_count": 57,
   "metadata": {},
   "outputs": [
    {
     "data": {
      "image/png": "[encoded data removed]",
      "text/plain": [
       "<Figure size 432x288 with 1 Axes>"
      ]
     },
     "metadata": {
      "needs_background": "light"
     },
     "output_type": "display_data"
    }
   ],
   "source": [
    "plt.imshow(tensor,interpolation='nearest')\n",
    "plt.show()"
   ]
  },
  {
   "attachments": {},
   "cell_type": "markdown",
   "metadata": {},
   "source": [
    "Si prestas atención verás que por cada matriz dentro del tensor fuimos creando un tono de negro, dando por resultado 9 tonos distintos."
   ]
  },
  {
   "cell_type": "code",
   "execution_count": 58,
   "metadata": {},
   "outputs": [
    {
     "data": {
      "image/png": "[encoded data removed]",
      "text/plain": [
       "<Figure size 432x288 with 1 Axes>"
      ]
     },
     "metadata": {
      "needs_background": "light"
     },
     "output_type": "display_data"
    }
   ],
   "source": [
    "tensor = np.array(\n",
    "    [\n",
    "        [[0,0,0],[0,0,0],[0,0,0]],\n",
    "        [[128,128,128],[128,128,128],[128,128,128]],\n",
    "        [[255,255,255],[255,255,255],[255,255,255]],\n",
    "    ]\n",
    ")\n",
    "\n",
    "plt.imshow(tensor,interpolation='nearest')\n",
    "plt.show()"
   ]
  },
  {
   "attachments": {},
   "cell_type": "markdown",
   "metadata": {},
   "source": [
    "# Modulo 2: Realiza operaciones básicas\n",
    "\n"
   ]
  },
  {
   "attachments": {},
   "cell_type": "markdown",
   "metadata": {},
   "source": [
    "## Dimensión de un escalar, vector, matriz o tensor\n",
    "\n",
    "Veremos como poder identificar el **contenido, dimensiones, largo y tipo de contenido** dentro de vectores, matrices y tensores con Python."
   ]
  },
  {
   "cell_type": "code",
   "execution_count": 59,
   "metadata": {},
   "outputs": [],
   "source": [
    "escalar = 5.678\n",
    "vector = np.array([1,2,3])\n",
    "matriz = np.array([[1,2,3],[4,5,6],[7,8,9]])\n",
    "tensor = np.array([\n",
    "        [[1,2,3],[4,5,6],[7,8,9]],\n",
    "        [[11,12,13],[14,15,16],[17,18,19]],\n",
    "        [[21,22,23],[24,25,26],[27,28,29]],\n",
    "    ])"
   ]
  },
  {
   "cell_type": "code",
   "execution_count": 60,
   "metadata": {},
   "outputs": [
    {
     "name": "stdout",
     "output_type": "stream",
     "text": [
      "\n",
      "Contenido del escalar:\n",
      " 5.678\n"
     ]
    }
   ],
   "source": [
    "print(\n",
    "    '\\nContenido del escalar:\\n',escalar,\n",
    ")"
   ]
  },
  {
   "cell_type": "code",
   "execution_count": 61,
   "metadata": {},
   "outputs": [
    {
     "name": "stdout",
     "output_type": "stream",
     "text": [
      "\n",
      "Contenido del vector:\n",
      " [1 2 3] \n",
      "Dimensiones del vector:\n",
      " (3,) \n",
      "Largo de la primera columna el vector:\n",
      " 3\n"
     ]
    }
   ],
   "source": [
    "print(\n",
    "    '\\nContenido del vector:\\n',vector,\n",
    "    '\\nDimensiones del vector:\\n',vector.shape,\n",
    "    '\\nLargo de la primera columna el vector:\\n',len(vector),\n",
    ")"
   ]
  },
  {
   "cell_type": "code",
   "execution_count": 62,
   "metadata": {},
   "outputs": [
    {
     "name": "stdout",
     "output_type": "stream",
     "text": [
      "\n",
      "Contenido de la matriz:\n",
      " [[1 2 3]\n",
      " [4 5 6]\n",
      " [7 8 9]] \n",
      "Dimensiones de la matriz:\n",
      " (3, 3) \n",
      "Largo de la primera columna de la matriz:\n",
      " 3 \n",
      "Numero de contenido dentro de la matriz:\n",
      " 9\n"
     ]
    }
   ],
   "source": [
    "print(\n",
    "    '\\nContenido de la matriz:\\n',matriz,\n",
    "    '\\nDimensiones de la matriz:\\n',matriz.shape,\n",
    "    '\\nLargo de la primera columna de la matriz:\\n',len(matriz),\n",
    "    '\\nNumero de contenido dentro de la matriz:\\n',matriz.size,\n",
    ")\n"
   ]
  },
  {
   "cell_type": "code",
   "execution_count": 63,
   "metadata": {},
   "outputs": [
    {
     "name": "stdout",
     "output_type": "stream",
     "text": [
      "\n",
      "Contenido de la tensor:\n",
      " [[[ 1  2  3]\n",
      "  [ 4  5  6]\n",
      "  [ 7  8  9]]\n",
      "\n",
      " [[11 12 13]\n",
      "  [14 15 16]\n",
      "  [17 18 19]]\n",
      "\n",
      " [[21 22 23]\n",
      "  [24 25 26]\n",
      "  [27 28 29]]] \n",
      "Dimensiones de la tensor:\n",
      " (3, 3, 3) \n",
      "Largo de la primera columna de la tensor:\n",
      " 3 \n",
      "Numero de contenido dentro de la tensor:\n",
      " 27\n"
     ]
    }
   ],
   "source": [
    "print(\n",
    "    '\\nContenido de la tensor:\\n',tensor,\n",
    "    '\\nDimensiones de la tensor:\\n',tensor.shape,\n",
    "    '\\nLargo de la primera columna de la tensor:\\n',len(tensor),\n",
    "    '\\nNumero de contenido dentro de la tensor:\\n',tensor.size,\n",
    ")"
   ]
  },
  {
   "attachments": {},
   "cell_type": "markdown",
   "metadata": {},
   "source": [
    "**Un tensor podemos usarlo para pensar una evolución de una matriz a través del tiempo en el tiempo**, si con una matriz podemos representar una foto, con un tensor podríamos representar un video, donde cada uno de los estados que tenemos dentro del tensor lo definiríamos con un delta de tiempo ($\\Delta T$)"
   ]
  },
  {
   "attachments": {},
   "cell_type": "markdown",
   "metadata": {},
   "source": [
    "## Transposición, suma de matrices y escalares\n",
    "\n",
    "### [Matriz transpuesta (Transposición)](https://es.wikipedia.org/wiki/Matriz_transpuesta)\n",
    "\n",
    "Sea $A$ una matriz con $m$ filas y $n$ columnas. La matriz traspuesta, denotada con $ A^{t}$.​​\n",
    "\n",
    "Está dada por:\n",
    "\n",
    "${\\displaystyle (A^{t})_{ij}=A_{ji},\\ 1\\leq i\\leq n,\\ 1\\leq j\\leq m}$\n",
    "\n",
    "En donde el elemento ${\\displaystyle a_{ji}}$ de la matriz original $A$ se convertirá en el elemento $a_{ij}$ de la matriz traspuesta $A^{t}$.\n",
    "\n",
    "\n",
    "> 💡 La traspuesta $A^T$ de una matriz $A$ puede ser obtenida reflejando los elementos a lo largo de su diagonal. Repitiendo el proceso en la matriz traspuesta devuelve los elementos a su posición original. Así, la traspuesta de una traspuesta es la matriz original, $(A^T)^T = A$.\n",
    "\n",
    "<img src='https://upload.wikimedia.org/wikipedia/commons/e/e4/Matrix_transpose.gif'>\n",
    "\n",
    "Veamos el ejemplo práctico con Python"
   ]
  },
  {
   "cell_type": "code",
   "execution_count": 64,
   "metadata": {},
   "outputs": [],
   "source": [
    "import numpy as np"
   ]
  },
  {
   "cell_type": "code",
   "execution_count": 65,
   "metadata": {},
   "outputs": [],
   "source": [
    "escalar = np.array(5.678)\n",
    "vector = np.array([1,2,3])\n",
    "matriz = np.array([[1,2,3],[4,5,6],[7,8,9]])\n",
    "tensor = np.array([\n",
    "        [[1,2,3],[4,5,6],[7,8,9]],\n",
    "        [[11,12,13],[14,15,16],[17,18,19]],\n",
    "        [[21,22,23],[24,25,26],[27,28,29]],\n",
    "    ])"
   ]
  },
  {
   "attachments": {},
   "cell_type": "markdown",
   "metadata": {},
   "source": [
    "Realizar la transpuesta de un escalar no tendría mucho sentido, ya que recordemos que un escalar es un número único. "
   ]
  },
  {
   "cell_type": "code",
   "execution_count": 66,
   "metadata": {},
   "outputs": [
    {
     "name": "stdout",
     "output_type": "stream",
     "text": [
      "5.678\n"
     ]
    }
   ],
   "source": [
    "escalar_t = escalar.T\n",
    "print(escalar_t)"
   ]
  },
  {
   "attachments": {},
   "cell_type": "markdown",
   "metadata": {},
   "source": [
    "Al intentar transponer un vector con el método [**transpose**](https://numpy.org/doc/stable/reference/generated/numpy.transpose.html) de NumPy obtendremos simplemente el mismo vector, en caso de que quieras transformar el vector columna en un vector fila tendrás que hacerlo con el método [**reshape**](https://numpy.org/doc/stable/reference/generated/numpy.reshape.html)"
   ]
  },
  {
   "cell_type": "code",
   "execution_count": 67,
   "metadata": {},
   "outputs": [
    {
     "name": "stdout",
     "output_type": "stream",
     "text": [
      "[1 2 3]\n"
     ]
    }
   ],
   "source": [
    "vector_t = vector.T\n",
    "print(vector_t)"
   ]
  },
  {
   "cell_type": "code",
   "execution_count": 68,
   "metadata": {},
   "outputs": [
    {
     "name": "stdout",
     "output_type": "stream",
     "text": [
      "[[1]\n",
      " [2]\n",
      " [3]]\n"
     ]
    }
   ],
   "source": [
    "vector_t = vector_t.reshape(-1,1)\n",
    "print(vector_t)\n"
   ]
  },
  {
   "cell_type": "code",
   "execution_count": 69,
   "metadata": {},
   "outputs": [
    {
     "name": "stdout",
     "output_type": "stream",
     "text": [
      "Matriz A:\n",
      "[[1 2 3]\n",
      " [4 5 6]\n",
      " [7 8 9]]\n",
      "\n",
      "Matriz A^t:\n",
      "[[1 4 7]\n",
      " [2 5 8]\n",
      " [3 6 9]]\n"
     ]
    }
   ],
   "source": [
    "matriz_t = matriz.T\n",
    "print(\n",
    "    'Matriz A:',matriz,'',\n",
    "    'Matriz A^t:',matriz_t,\n",
    "    sep='\\n')"
   ]
  },
  {
   "attachments": {},
   "cell_type": "markdown",
   "metadata": {},
   "source": [
    "Un tensor puede representarse como una matriz (**potencialmente multidimensional**) tenemos el mismo tipo de transposición que para una matriz, solamente que es una que generalización dado que un tensor posee más dimensiones que una matriz."
   ]
  },
  {
   "cell_type": "code",
   "execution_count": 70,
   "metadata": {},
   "outputs": [
    {
     "name": "stdout",
     "output_type": "stream",
     "text": [
      "Tensor A^t:\n",
      " [[[ 1 11 21]\n",
      "  [ 4 14 24]\n",
      "  [ 7 17 27]]\n",
      "\n",
      " [[ 2 12 22]\n",
      "  [ 5 15 25]\n",
      "  [ 8 18 28]]\n",
      "\n",
      " [[ 3 13 23]\n",
      "  [ 6 16 26]\n",
      "  [ 9 19 29]]]\n"
     ]
    }
   ],
   "source": [
    "tensor_t = tensor.T\n",
    "print('Tensor A^t:\\n',tensor_t)\n"
   ]
  },
  {
   "attachments": {},
   "cell_type": "markdown",
   "metadata": {},
   "source": [
    "Un tensor también se puede transponer en este caso se intercambiaran los elementos de manera que la jerarquía quede invertida. Sea un tensor de $m\\cdot n \\cdot p $ el tensor transpuesto tendrá una dimensión de $p\\cdot n \\cdot m $\n",
    "\n",
    "<img src='http://4.bp.blogspot.com/_js6wgtUcfdQ/Si__QkuUMbI/AAAAAAAAGHQ/VwcqVHI_NzU/s1600/tensor_orden_3_cubo_matricial.gif' width=400>\n"
   ]
  },
  {
   "cell_type": "code",
   "execution_count": 71,
   "metadata": {},
   "outputs": [
    {
     "name": "stdout",
     "output_type": "stream",
     "text": [
      "Tensor A:\n",
      " [[[ 1  2  3]\n",
      "  [ 4  5  6]\n",
      "  [ 7  8  9]]\n",
      "\n",
      " [[11 12 13]\n",
      "  [14 15 16]\n",
      "  [17 18 19]]\n",
      "\n",
      " [[21 22 23]\n",
      "  [24 25 26]\n",
      "  [27 28 29]]]\n"
     ]
    }
   ],
   "source": [
    "print('Tensor A:\\n',tensor)"
   ]
  },
  {
   "attachments": {},
   "cell_type": "markdown",
   "metadata": {},
   "source": [
    "### Suma de matrices\n",
    "\n",
    "**Para sumar matrices debemos:**\n",
    "\n",
    "- Comprobar el orden de las **matrices**, tal que: Si el orden de las **matrices** es el mismo, entonces se pueden **sumar** las **matrices**. Si el orden de las **matrices** es distinto, entonces no podemos **sumar** las **matrices**.\n",
    "\n",
    "- **Sumar** los elementos que tienen la misma posición dentro de sus respectivas **matrices**.\n",
    "\n",
    "[Suma de matrices](https://www.youtube.com/watch?v=S89lkpvajyU)"
   ]
  },
  {
   "cell_type": "code",
   "execution_count": 72,
   "metadata": {},
   "outputs": [
    {
     "name": "stdout",
     "output_type": "stream",
     "text": [
      "\n",
      "Matriz A:\n",
      "[[1 2 3]\n",
      " [4 5 6]]\n",
      "Matriz B:\n",
      "[[1 4]\n",
      " [2 5]\n",
      " [3 6]]\n",
      "\n"
     ]
    }
   ],
   "source": [
    "A = matriz[0:2]\n",
    "B = matriz_t[0:3,0:2]\n",
    "\n",
    "print(f'''\n",
    "Matriz A:\\n{A}\n",
    "Matriz B:\\n{B}\n",
    "''')"
   ]
  },
  {
   "attachments": {},
   "cell_type": "markdown",
   "metadata": {},
   "source": [
    "Para este ejemplo demostraremos como Python es incapaz de sumar la matriz A y B, ya que su orden es distinto"
   ]
  },
  {
   "cell_type": "code",
   "execution_count": 73,
   "metadata": {},
   "outputs": [
    {
     "ename": "ValueError",
     "evalue": "operands could not be broadcast together with shapes (2,3) (3,2) ",
     "output_type": "error",
     "traceback": [
      "\u001b[0;31m---------------------------------------------------------------------------\u001b[0m",
      "\u001b[0;31mValueError\u001b[0m                                Traceback (most recent call last)",
      "\u001b[0;32m/tmp/ipykernel_1783/1597321363.py\u001b[0m in \u001b[0;36m<module>\u001b[0;34m\u001b[0m\n\u001b[0;32m----> 1\u001b[0;31m \u001b[0mC\u001b[0m \u001b[0;34m=\u001b[0m  \u001b[0mA\u001b[0m\u001b[0;34m+\u001b[0m\u001b[0mB\u001b[0m\u001b[0;34m\u001b[0m\u001b[0;34m\u001b[0m\u001b[0m\n\u001b[0m\u001b[1;32m      2\u001b[0m \u001b[0mC\u001b[0m\u001b[0;34m\u001b[0m\u001b[0;34m\u001b[0m\u001b[0m\n",
      "\u001b[0;31mValueError\u001b[0m: operands could not be broadcast together with shapes (2,3) (3,2) "
     ]
    }
   ],
   "source": [
    "C =  A+B\n",
    "C"
   ]
  },
  {
   "cell_type": "code",
   "execution_count": null,
   "metadata": {},
   "outputs": [
    {
     "name": "stdout",
     "output_type": "stream",
     "text": [
      "\n",
      "Matriz A:  \n",
      "[[1 2]\n",
      " [3 4]\n",
      " [5 6]]\n",
      "Matriz B:\n",
      "[[6 5]\n",
      " [4 3]\n",
      " [2 1]]\n",
      "\n"
     ]
    }
   ],
   "source": [
    "A = np.array([[1,2],[3,4],[5,6]])\n",
    "B = np.array([[6,5],[4,3],[2,1]])\n",
    "\n",
    "print(f'''\n",
    "Matriz A:  \\n{A}\n",
    "Matriz B:\\n{B}\n",
    "''')"
   ]
  },
  {
   "attachments": {},
   "cell_type": "markdown",
   "metadata": {},
   "source": [
    "En este ejemplo si podremos hacer la suma de las matrices, ya que su orden es el mismo"
   ]
  },
  {
   "cell_type": "code",
   "execution_count": null,
   "metadata": {},
   "outputs": [
    {
     "name": "stdout",
     "output_type": "stream",
     "text": [
      "[[7 7]\n",
      " [7 7]\n",
      " [7 7]]\n"
     ]
    }
   ],
   "source": [
    "C = A+B\n",
    "print(C)"
   ]
  },
  {
   "attachments": {},
   "cell_type": "markdown",
   "metadata": {},
   "source": [
    "## Suma de matrices y vectores (broadcasting)\n",
    "\n",
    "Anteriormente, vimos como era sumar matrices con las mismas dimensiones, ahora veremos como lograr sumar matrices y vectores con distintas dimensiones, esto se puede realizar solamente cuando se cumplen las reglas de Python para hacer broadcasting"
   ]
  },
  {
   "cell_type": "code",
   "execution_count": null,
   "metadata": {},
   "outputs": [],
   "source": [
    "import numpy as np\n",
    "\n",
    "escalar = 5.679\n",
    "vector= np.array([3,4,5])\n",
    "matriz = np.array([[1,2],[3,4],[5,6]])"
   ]
  },
  {
   "cell_type": "code",
   "execution_count": null,
   "metadata": {},
   "outputs": [
    {
     "ename": "ValueError",
     "evalue": "operands could not be broadcast together with shapes (3,) (3,2) ",
     "output_type": "error",
     "traceback": [
      "\u001b[0;31m---------------------------------------------------------------------------\u001b[0m",
      "\u001b[0;31mValueError\u001b[0m                                Traceback (most recent call last)",
      "\u001b[1;32m/home/mazzaroli/personalProjects/DataScience/basico/algebra_lineal/notes.ipynb Cell 54\u001b[0m in \u001b[0;36m<cell line: 1>\u001b[0;34m()\u001b[0m\n\u001b[0;32m----> <a href='vscode-notebook-cell://wsl%2Bubuntu-20.04/home/mazzaroli/personalProjects/DataScience/basico/algebra_lineal/notes.ipynb#Y110sdnNjb2RlLXJlbW90ZQ%3D%3D?line=0'>1</a>\u001b[0m A \u001b[39m=\u001b[39m vector \u001b[39m+\u001b[39;49m matriz\n",
      "\u001b[0;31mValueError\u001b[0m: operands could not be broadcast together with shapes (3,) (3,2) "
     ]
    }
   ],
   "source": [
    "A = vector + matriz"
   ]
  },
  {
   "attachments": {},
   "cell_type": "markdown",
   "metadata": {},
   "source": [
    "Anteriormente, ya comprobamos que sumar **Vector + Matriz** nos arrojaba un error, ¿pero por qué se daba este resultado?\n",
    "\n",
    "Esto surge por querer sumar una matriz $3x2$ con un vector de $3$ posiciones\n",
    "\n",
    "Pero si damos el caso en que intentamos sumar la **matriz transpuesta** con el **vector** veremos un resultado diferente."
   ]
  },
  {
   "cell_type": "code",
   "execution_count": null,
   "metadata": {},
   "outputs": [
    {
     "name": "stdout",
     "output_type": "stream",
     "text": [
      "[[ 4  7 10]\n",
      " [ 5  8 11]]\n"
     ]
    }
   ],
   "source": [
    "A = vector + matriz.T\n",
    "print(A)"
   ]
  },
  {
   "attachments": {},
   "cell_type": "markdown",
   "metadata": {},
   "source": [
    "Lo que ocurre es que nuestra matriz transpuesta ahora es $2x3$, por lo cual tiene 3 elementos para cada una de sus filas y repite el vector tanto para la fila 1 y para la fila 2, aca es donde se presenta el broadcasting.\n",
    "\n",
    "<img src='https://numpy.org/doc/1.20/_images/theory.broadcast_2.gif'>\n",
    "\n",
    "**Broadcasting:** es extender la matriz o vector de menor tamaño para que se ajuste a la de mayor tamaño:"
   ]
  },
  {
   "attachments": {},
   "cell_type": "markdown",
   "metadata": {},
   "source": [
    "## Producto interno entre una matriz y un vector\n",
    "\n",
    "### Producto interno (producto escalar)\n",
    "\n",
    "En matemáticas, el **producto escalar**, también conocido como **producto interno** o **producto punto**, es una operación algebraica que toma dos vectores y retorna un escalar, y que satisface ciertas condiciones.\n",
    "\n",
    "De entre todos los productos que se pueden definir en distintos espacios vectoriales, el más relevante es el denominado producto escalar (usual o estándar) en el espacio euclideo $\\mathbb {R} ^{n}$. \n",
    "Dados dos vectores ${\\displaystyle \\text{u}=(u_{1},u_{2},...,u_{n})}$ y ${\\displaystyle \\text{v}=(v_{1},v_{2},...,v_{n})}$, su **producto escalar** se define como:\n",
    "\n",
    "${\\displaystyle \\text{u} \\cdot \\text{v} =u_{1}\\cdot v_{1}+u_{2}\\cdot v_{2}+...+u_{n}\\cdot v_{n}}$ "
   ]
  },
  {
   "cell_type": "code",
   "execution_count": null,
   "metadata": {},
   "outputs": [],
   "source": [
    "import numpy as np"
   ]
  },
  {
   "cell_type": "code",
   "execution_count": null,
   "metadata": {},
   "outputs": [],
   "source": [
    "escalar = 5.679\n",
    "vector = np.array([2,3])\n",
    "matriz = np.array([[1,2],[3,4],[5,6]])"
   ]
  },
  {
   "cell_type": "code",
   "execution_count": null,
   "metadata": {},
   "outputs": [],
   "source": [
    "A = matriz * vector"
   ]
  },
  {
   "cell_type": "code",
   "execution_count": null,
   "metadata": {},
   "outputs": [
    {
     "name": "stdout",
     "output_type": "stream",
     "text": [
      "[[ 2  6]\n",
      " [ 6 12]\n",
      " [10 18]]\n"
     ]
    }
   ],
   "source": [
    "print(A)"
   ]
  },
  {
   "attachments": {},
   "cell_type": "markdown",
   "metadata": {},
   "source": [
    "En este ejemplo vemos de vuelta que se aplica el **broadcasting**, ya que se duplica el vector {2,3} para poder multiplicarlo por la matriz 3\n",
    "\n",
    "$\n",
    "\\begin{bmatrix}\n",
    "1 & 2 \\\\\n",
    "3 & 4 \\\\\n",
    "5 & 6 \n",
    "\\end{bmatrix}*\n",
    "\\begin{bmatrix}\n",
    "2 & 3\n",
    "\\end{bmatrix}=\n",
    "\\begin{bmatrix}\n",
    "1 & 2 \\\\\n",
    "3 & 4 \\\\\n",
    "5 & 6 \n",
    "\\end{bmatrix}*\n",
    "\\begin{bmatrix}\n",
    "2 & 3 \\\\\n",
    "2 & 3 \\\\\n",
    "2 & 3 \\\\\n",
    "\\end{bmatrix}=\n",
    "\\begin{bmatrix}\n",
    "2 & 6 \\\\\n",
    "6 & 12 \\\\\n",
    "10 & 18 \n",
    "\\end{bmatrix}\n",
    "$\n"
   ]
  },
  {
   "attachments": {},
   "cell_type": "markdown",
   "metadata": {},
   "source": [
    "En el caso tenemos dos formas de lograr el **producto interno** con Python y obtener el resultado que buscamos\n",
    "\n",
    "$\n",
    "\\begin{bmatrix}\n",
    "1 & 2 \\\\\n",
    "3 & 4 \\\\\n",
    "5 & 6 \n",
    "\\end{bmatrix}*\n",
    "\\begin{bmatrix}\n",
    "2 & 3\n",
    "\\end{bmatrix}=\n",
    "\\begin{bmatrix}\n",
    "1*2 &+& 2*3\\\\\n",
    "3*2 &+& 4*3\\\\\n",
    "5*2 &+& 6*3\\\\\n",
    "\\end{bmatrix}=\n",
    "\\begin{bmatrix}\n",
    "8\\\\\n",
    "18\\\\\n",
    "28\\\\\n",
    "\\end{bmatrix}\n",
    "$"
   ]
  },
  {
   "cell_type": "code",
   "execution_count": null,
   "metadata": {},
   "outputs": [
    {
     "name": "stdout",
     "output_type": "stream",
     "text": [
      "[ 8 18 28]\n"
     ]
    }
   ],
   "source": [
    "B = matriz.dot(vector)\n",
    "print(B)"
   ]
  },
  {
   "attachments": {},
   "cell_type": "markdown",
   "metadata": {},
   "source": [
    "## [Producto interno entre dos matrices](https://es.wikipedia.org/wiki/Multiplicaci%C3%B3n_de_matrices)\n",
    "\n",
    "Dadas dos matrices $A$ y $B$, tales que $∈$ $×{\\displaystyle A\\in \\mathbb {R} ^{m\\times n}}$ y $∈×{\\displaystyle B\\in \\mathbb {R} ^{n\\times p}}$, la multiplicación de $A$ por $B$, que se denota por $AB$, es una matriz con $m$ filas y $p$ columnas cuya \n",
    "$(i,j)$-ésima entrada es:\n",
    "\n",
    "${\\displaystyle \\sum _{r=1}^{n}a_{ir}b_{rj}}$\n",
    "\n",
    "es decir:\n",
    "\n",
    "${\\displaystyle {\\begin{aligned}AB&={\\begin{pmatrix}a_{11}&\\cdots &a_{1n}\\\\\\vdots &\\ddots &\\vdots \\\\a_{m1}&\\cdots &a_{mn}\\end{pmatrix}}{\\begin{pmatrix}b_{11}&\\cdots &b_{1p}\\\\\\vdots &\\ddots &\\vdots \\\\b_{n1}&\\cdots &b_{np}\\end{pmatrix}}\\\\&={\\begin{pmatrix}a_{11}b_{11}+\\cdots +a_{1n}b_{n1}&\\cdots &a_{11}b_{1p}+\\cdots +a_{1n}b_{np}\\\\\\vdots &\\ddots &\\vdots \\\\a_{m1}b_{11}+\\cdots +a_{mn}b_{n1}&\\cdots &a_{m1}b_{1p}+\\cdots +a_{mn}b_{np}\\end{pmatrix}}\\end{aligned}}}$\n",
    "\n",
    "<img src='https://upload.wikimedia.org/wikipedia/commons/thumb/1/11/Matrix_multiplication_diagram.svg/1024px-Matrix_multiplication_diagram.svg.png' width=400>\n",
    "\n",
    "> Los resultados en las posiciones marcadas dependen de las filas y columnas de sus respectivos colores.\n",
    "\n",
    "[Video Multiplicación de matrices | Producto de matrices](https://youtu.be/Tjrm3HsqBXE)\n",
    "\n",
    "Ahora realizaremos una **práctica con Python**:"
   ]
  },
  {
   "cell_type": "code",
   "execution_count": null,
   "metadata": {},
   "outputs": [],
   "source": [
    "import numpy as np"
   ]
  },
  {
   "cell_type": "code",
   "execution_count": null,
   "metadata": {},
   "outputs": [],
   "source": [
    "A = np.array([[1,2,3],[4,5,6],[7,8,9],[10,11,12]])\n",
    "B = np.array([[1, 2], [3, 4], [5, 6]])"
   ]
  },
  {
   "attachments": {},
   "cell_type": "markdown",
   "metadata": {},
   "source": [
    "Para poder calcular el producto interno de dos matrices **el número de columnas del primero debe ser igual al número de filas del segundo.**\n",
    "\n",
    "Matriz A:\n",
    "$\n",
    "\\begin{bmatrix}\n",
    "1 & 2 & 3\\\\\n",
    "4 & 5 & 6\\\\\n",
    "7 & 8 & 9\\\\\n",
    "10& 11& 12\n",
    "\\end{bmatrix}\n",
    "$\n",
    "\n",
    "Matriz B:\n",
    "$\n",
    "\\begin{bmatrix}\n",
    "1 & 2\\\\\n",
    "3 & 4\\\\\n",
    "5 & 6\\\\\n",
    "\\end{bmatrix}\n",
    "$"
   ]
  },
  {
   "attachments": {},
   "cell_type": "markdown",
   "metadata": {},
   "source": [
    "Podemos ver que si podemos realizar el producto interno entre la matriz $A$ y $B$ porque coinciden las dimensiones de columnas de la matriz $A$ con las filas de la Matriz $B$\n",
    "\n",
    "$\n",
    "\\begin{matrix}\n",
    "A & B\\\\\n",
    "(4,\\underline{3}) & (\\underline{3},2)\n",
    "\\end{matrix}\n",
    "$"
   ]
  },
  {
   "cell_type": "code",
   "execution_count": null,
   "metadata": {},
   "outputs": [
    {
     "name": "stdout",
     "output_type": "stream",
     "text": [
      "[[ 22  28]\n",
      " [ 49  64]\n",
      " [ 76 100]\n",
      " [103 136]]\n"
     ]
    }
   ],
   "source": [
    "C= A.dot(B)\n",
    "print(C)"
   ]
  },
  {
   "cell_type": "code",
   "execution_count": null,
   "metadata": {},
   "outputs": [
    {
     "name": "stdout",
     "output_type": "stream",
     "text": [
      "(4, 3)\n",
      "(3, 2)\n"
     ]
    }
   ],
   "source": [
    "print(A.shape,B.shape,sep='\\n')"
   ]
  },
  {
   "attachments": {},
   "cell_type": "markdown",
   "metadata": {},
   "source": [
    "Pero si intentamos hacer el producto interno entre la matriz B y A, veremos que no podemos, ya que no coinciden las dimensiones de columnas de la matriz $B$ con las filas de la Matriz $A$\n",
    "\n",
    "$\n",
    "\\begin{matrix}\n",
    "B & A\\\\\n",
    "(3,\\underline{2}) & (\\underline{4},3)\n",
    "\\end{matrix}\n",
    "$"
   ]
  },
  {
   "cell_type": "code",
   "execution_count": null,
   "metadata": {},
   "outputs": [
    {
     "ename": "ValueError",
     "evalue": "shapes (3,2) and (4,3) not aligned: 2 (dim 1) != 4 (dim 0)",
     "output_type": "error",
     "traceback": [
      "\u001b[0;31m---------------------------------------------------------------------------\u001b[0m",
      "\u001b[0;31mValueError\u001b[0m                                Traceback (most recent call last)",
      "\u001b[1;32m/home/mazzaroli/personalProjects/DataScience/basico/algebra_lineal/notes.ipynb Cell 73\u001b[0m in \u001b[0;36m<cell line: 1>\u001b[0;34m()\u001b[0m\n\u001b[0;32m----> <a href='vscode-notebook-cell://wsl%2Bubuntu-20.04/home/mazzaroli/personalProjects/DataScience/basico/algebra_lineal/notes.ipynb#Y140sdnNjb2RlLXJlbW90ZQ%3D%3D?line=0'>1</a>\u001b[0m D\u001b[39m=\u001b[39m B\u001b[39m.\u001b[39;49mdot(A)\n",
      "\u001b[0;31mValueError\u001b[0m: shapes (3,2) and (4,3) not aligned: 2 (dim 1) != 4 (dim 0)"
     ]
    }
   ],
   "source": [
    "D= B.dot(A)"
   ]
  },
  {
   "attachments": {},
   "cell_type": "markdown",
   "metadata": {},
   "source": [
    "## Propiedades de las matrices: la multiplicación de matrices es asociativa y distributiva, no es conmutativa\n",
    "\n",
    "**Propiedades de multiplicación de matrices**\n",
    "\n",
    "### Asociativa:\n",
    "podemos asociar las multiplicaciones en el orden que queramos:\n",
    "\n",
    "$A\\text{x}B\\text{x}C = (A\\text{x}B)\\text{x}C = A\\text{x}(B\\text{x}C)$\n",
    "\n",
    "### Distributiva con respecto a la suma:\n",
    "si tenemos la multiplicación de una matriz multiplicada por la suma de otras dos, será equivalente a la suma de las multiplicaciones de la matriz por cada una de las otras dos (en el mismo orden): \n",
    "\n",
    "$A\\text{x}(B+C) = (A\\text{x}B) +(A\\text{x}C)$\n",
    "\n",
    "### Conmutativa:\n",
    "La multiplicación de matrices no es conmutativa, es decir no se puede invertir el orden de multiplicacion: \n",
    "\n",
    "$A\\text{x}B != B\\text{x}A$\n"
   ]
  },
  {
   "attachments": {},
   "cell_type": "markdown",
   "metadata": {},
   "source": [
    "Ahora realizaremos una **práctica con Python**:"
   ]
  },
  {
   "cell_type": "code",
   "execution_count": null,
   "metadata": {},
   "outputs": [],
   "source": [
    "import numpy as np"
   ]
  },
  {
   "cell_type": "code",
   "execution_count": null,
   "metadata": {},
   "outputs": [],
   "source": [
    "A = np.array([[2,3],[5,7],[11,13]])\n",
    "B = np.array([[1,3],[2,1]])\n",
    "C = np.array([[3,1],[4,2]])"
   ]
  },
  {
   "cell_type": "code",
   "execution_count": null,
   "metadata": {},
   "outputs": [
    {
     "name": "stdout",
     "output_type": "stream",
     "text": [
      "[[ 60  26]\n",
      " [145  63]\n",
      " [295 129]]\n"
     ]
    }
   ],
   "source": [
    "# Asociativa\n",
    "ABC = A.dot(B.dot(C))\n",
    "print(ABC)"
   ]
  },
  {
   "cell_type": "code",
   "execution_count": null,
   "metadata": {},
   "outputs": [
    {
     "name": "stdout",
     "output_type": "stream",
     "text": [
      "[[ 60  26]\n",
      " [145  63]\n",
      " [295 129]]\n"
     ]
    }
   ],
   "source": [
    "AB_C = A.dot(B).dot(C)\n",
    "print(AB_C)"
   ]
  },
  {
   "cell_type": "code",
   "execution_count": null,
   "metadata": {},
   "outputs": [],
   "source": [
    "# Distributiva\n",
    "D = A.dot(B+C)\n",
    "E = (A.dot(B))+(A.dot(C))"
   ]
  },
  {
   "cell_type": "code",
   "execution_count": null,
   "metadata": {},
   "outputs": [
    {
     "name": "stdout",
     "output_type": "stream",
     "text": [
      "[[ 26  17]\n",
      " [ 62  41]\n",
      " [122  83]]\n",
      "\n",
      "[[ 26  17]\n",
      " [ 62  41]\n",
      " [122  83]]\n",
      "\n",
      "[[ True  True]\n",
      " [ True  True]\n",
      " [ True  True]]\n"
     ]
    }
   ],
   "source": [
    "print(D,E,D==E,sep='\\n\\n')"
   ]
  },
  {
   "cell_type": "code",
   "execution_count": null,
   "metadata": {},
   "outputs": [],
   "source": [
    "# Conmutativa\n",
    "F = B.dot(C)\n",
    "G = C.dot(B)"
   ]
  },
  {
   "cell_type": "code",
   "execution_count": null,
   "metadata": {},
   "outputs": [
    {
     "name": "stdout",
     "output_type": "stream",
     "text": [
      "[[15  7]\n",
      " [10  4]]\n",
      "\n",
      "[[ 5 10]\n",
      " [ 8 14]]\n",
      "\n",
      "[[False False]\n",
      " [False False]]\n"
     ]
    }
   ],
   "source": [
    "print(F,G,F==G,sep='\\n\\n')"
   ]
  },
  {
   "cell_type": "code",
   "execution_count": null,
   "metadata": {},
   "outputs": [],
   "source": [
    "v1 = np.array([[2],[7]])\n",
    "v2 = np.array([[3],[5]])"
   ]
  },
  {
   "cell_type": "code",
   "execution_count": null,
   "metadata": {},
   "outputs": [],
   "source": [
    "v1_tv2 = v1.T.dot(v2)\n",
    "v2_tv1 = v2.T.dot(v1)"
   ]
  },
  {
   "cell_type": "code",
   "execution_count": null,
   "metadata": {},
   "outputs": [
    {
     "name": "stdout",
     "output_type": "stream",
     "text": [
      "[[41]]\n",
      "\n",
      "[[41]]\n"
     ]
    }
   ],
   "source": [
    "print(v1_tv2,v2_tv1,sep='\\n\\n')"
   ]
  },
  {
   "attachments": {},
   "cell_type": "markdown",
   "metadata": {},
   "source": [
    "Por lo tanto podemos resumir que **el producto interno entre matrices es:**\n",
    "\n",
    "- **Asociativa:** Sí\n",
    "- **Distributiva:** Sí\n",
    "- **Conmutativa:** NO\n",
    "\n",
    "Y **el producto interno entre vectores es:**\n",
    "- **Asociativa:** Sí\n",
    "- **Distributiva:** Sí\n",
    "- **Conmutativa:** Sí"
   ]
  },
  {
   "attachments": {},
   "cell_type": "markdown",
   "metadata": {},
   "source": [
    "## Transposición de un producto de matrices\n",
    "\n",
    "### Propiedades de la transposición\n",
    "La transpuesta de la multiplicación de dos matrices es igual a la multiplicación de las matrices transpuestas pero en orden inverso\n",
    "\n",
    "$(A·B)^t = B^t·A^t.$\n"
   ]
  },
  {
   "cell_type": "code",
   "execution_count": null,
   "metadata": {},
   "outputs": [],
   "source": [
    "import numpy as np"
   ]
  },
  {
   "cell_type": "code",
   "execution_count": null,
   "metadata": {},
   "outputs": [],
   "source": [
    "A= np.array([[2,3],[5,7],[11,13]])\n",
    "B= np.array([[1,3],[2,1]])"
   ]
  },
  {
   "cell_type": "code",
   "execution_count": null,
   "metadata": {},
   "outputs": [
    {
     "name": "stdout",
     "output_type": "stream",
     "text": [
      "[[ 2  3]\n",
      " [ 5  7]\n",
      " [11 13]]\n"
     ]
    }
   ],
   "source": [
    "print(A)"
   ]
  },
  {
   "cell_type": "code",
   "execution_count": null,
   "metadata": {},
   "outputs": [
    {
     "name": "stdout",
     "output_type": "stream",
     "text": [
      "[[1 3]\n",
      " [2 1]]\n"
     ]
    }
   ],
   "source": [
    "print(B)\n"
   ]
  },
  {
   "cell_type": "code",
   "execution_count": null,
   "metadata": {},
   "outputs": [],
   "source": [
    "AB_T = A.dot(B).T"
   ]
  },
  {
   "cell_type": "code",
   "execution_count": null,
   "metadata": {},
   "outputs": [],
   "source": [
    "B_tA_t = B.T.dot(A.T)"
   ]
  },
  {
   "cell_type": "code",
   "execution_count": null,
   "metadata": {},
   "outputs": [
    {
     "name": "stdout",
     "output_type": "stream",
     "text": [
      "\n",
      "AB_T\n",
      "[[ 8 19 37]\n",
      " [ 9 22 46]]\n",
      "\n",
      "B_tA_t\n",
      "[[ 8 19 37]\n",
      " [ 9 22 46]]\n",
      "\n",
      "AB_T==B_tA_t\n",
      "[[ True  True  True]\n",
      " [ True  True  True]]\n"
     ]
    }
   ],
   "source": [
    "print(f'''\n",
    "AB_T\\n{AB_T}\n",
    "\n",
    "B_tA_t\\n{B_tA_t}\n",
    "\n",
    "AB_T==B_tA_t\\n{AB_T==B_tA_t}''')"
   ]
  },
  {
   "attachments": {},
   "cell_type": "markdown",
   "metadata": {},
   "source": [
    "En matemáticas y álgebra lineal, un **sistema algebraico de ecuaciones lineales**, también conocido como **sistema lineal de ecuaciones** o simplemente **sistema lineal**, es un sistema de ecuaciones en donde cada ecuación es de primer grado, definidas sobre un cuerpo o un anillo conmutativo. Un ejemplo de sistema lineal de ecuaciones sería el siguiente:\n",
    "\n",
    "$\n",
    "{\\displaystyle \n",
    "    \\begin{matrix}\n",
    "        a_{1}x & + &b_{1}y & + & c_{1}z & = &C_{1}\\\\\n",
    "        a_{2}x & + &b_{2}y & + & c_{2}z & = &C_{2}\\\\\n",
    "        a_{3}x & + &b_{3}y & + & c_{3}z & = &C_{3}\n",
    "    \\end{matrix}\n",
    "    \\Longrightarrow\n",
    "    \\begin{bmatrix}\n",
    "        a_{1} & + &b_{1} & + & c_{1}\\\\\n",
    "        a_{2} & + &b_{2} & + & c_{2}\\\\\n",
    "        a_{3} & + &b_{3} & + & c_{3}\n",
    "    \\end{bmatrix}\n",
    "    \\begin{bmatrix}\n",
    "        x\\\\\n",
    "        y\\\\\n",
    "        z\\\\\n",
    "    \\end{bmatrix}\n",
    "    =\n",
    "    \\begin{bmatrix}\n",
    "        C_{1}\\\\\n",
    "        C_{2}\\\\\n",
    "        C_{3}\\\\\n",
    "    \\end{bmatrix}\n",
    "}\n",
    "$\n",
    "\n",
    "El problema consiste en encontrar los valores desconocidos de las variables $x1, x2$ y $x3$ que satisfacen las tres ecuaciones.\n",
    "\n",
    "El problema de los sistemas lineales de ecuaciones es uno de los más antiguos de la matemática y tiene una infinidad de aplicaciones, como en procesamiento digital de señales, análisis estructural, estimación, predicción y más generalmente en programación lineal, así como en la aproximación de problemas no lineales de análisis numérico.\n",
    "\n",
    "**Practica en Python**\n",
    "\n",
    "Teniendo en cuenta que tenemos el sistema de ecuaciones lineales:\n",
    "\n",
    "$\n",
    "{\\displaystyle\n",
    "    \\begin{matrix}\n",
    "        y_{1}=3x+5\\\\\n",
    "        y_{2}=2x+3\\\\\n",
    "    \\end{matrix}\n",
    "}\n",
    "$\n",
    "\n",
    "Pasaremos a resolverlo y graficarlo con Python:"
   ]
  },
  {
   "cell_type": "code",
   "execution_count": null,
   "metadata": {},
   "outputs": [],
   "source": [
    "%matplotlib inline"
   ]
  },
  {
   "cell_type": "code",
   "execution_count": null,
   "metadata": {},
   "outputs": [],
   "source": [
    "import numpy as np\n",
    "import matplotlib.pyplot as plt"
   ]
  },
  {
   "cell_type": "code",
   "execution_count": null,
   "metadata": {},
   "outputs": [],
   "source": [
    "x = np.arange(-5,5)"
   ]
  },
  {
   "cell_type": "code",
   "execution_count": null,
   "metadata": {},
   "outputs": [],
   "source": [
    "y_1 = 3*x+5\n",
    "y_2 = 2*x+3"
   ]
  },
  {
   "cell_type": "code",
   "execution_count": null,
   "metadata": {},
   "outputs": [
    {
     "data": {
      "text/plain": [
       "<matplotlib.lines.Line2D at 0x7f964de21ee0>"
      ]
     },
     "execution_count": 5,
     "metadata": {},
     "output_type": "execute_result"
    },
    {
     "data": {
      "image/png": "[encoded data removed]",
      "text/plain": [
       "<Figure size 432x288 with 1 Axes>"
      ]
     },
     "metadata": {
      "needs_background": "light"
     },
     "output_type": "display_data"
    }
   ],
   "source": [
    "plt.plot(x,y_1)\n",
    "plt.plot(x,y_2)\n",
    "\n",
    "plt.xlim(-5,5)\n",
    "plt.ylim(-5,5)\n",
    "\n",
    "plt.axvline(x=0, color='grey')\n",
    "plt.axhline(y=0, color='grey')"
   ]
  },
  {
   "cell_type": "code",
   "execution_count": null,
   "metadata": {},
   "outputs": [
    {
     "name": "stdout",
     "output_type": "stream",
     "text": [
      "[[-3  1]\n",
      " [-2  1]]\n"
     ]
    }
   ],
   "source": [
    "A = np.array([[-3,1],[-2,1]])\n",
    "print(A)"
   ]
  },
  {
   "cell_type": "code",
   "execution_count": null,
   "metadata": {},
   "outputs": [
    {
     "name": "stdout",
     "output_type": "stream",
     "text": [
      "[[5]\n",
      " [3]]\n"
     ]
    }
   ],
   "source": [
    "B = np.array([[5],[3]])\n",
    "print(B)"
   ]
  },
  {
   "cell_type": "code",
   "execution_count": null,
   "metadata": {},
   "outputs": [],
   "source": [
    "sol_1 = np.array([-2,-1])"
   ]
  },
  {
   "cell_type": "code",
   "execution_count": null,
   "metadata": {},
   "outputs": [
    {
     "data": {
      "text/plain": [
       "array([5, 3])"
      ]
     },
     "execution_count": 13,
     "metadata": {},
     "output_type": "execute_result"
    }
   ],
   "source": [
    "A.dot(sol_1)"
   ]
  },
  {
   "attachments": {},
   "cell_type": "markdown",
   "metadata": {},
   "source": [
    "## Tipos especiales de matrices: Identidad, Inversa, Singulares\n",
    "\n",
    "### [Matriz identidad](https://es.wikipedia.org/wiki/Matriz_identidad)\n",
    "- Es el elemento neutro de la multiplicación de matrices. Es decir que cualquier matriz multiplicada por la matriz identidad resulta la misma matriz. Para generar una matriz identidad de nxn en python se usa np.eye(n)\n",
    "\n",
    "### [Matriz inversa](https://es.wikipedia.org/wiki/Matriz_invertible) \n",
    "- Una matriz es inversa de otra cuando la multiplicación de las matrices resulta en una matriz identidad (elemento inverso de la multiplicación de matrices)\n",
    "\n",
    ">  Se puede dar uno cuenta rápido si una matriz es singular o no(es decir, saber si tiene inversa),\n",
    "> - si la determinante de la matriz es diferente de cero, tiene inversa\n",
    "> - si la determinante de la matriz es cero, no tiene inversa\n",
    "\n",
    "### [Matriz singular]()\n",
    "- Una matriz es singular cuando no tienen inversa. Todas las matrices que no son cuadradas son singulares"
   ]
  },
  {
   "attachments": {},
   "cell_type": "markdown",
   "metadata": {},
   "source": [
    "#### Matriz identidad con Python"
   ]
  },
  {
   "cell_type": "code",
   "execution_count": null,
   "metadata": {},
   "outputs": [],
   "source": [
    "import numpy as np"
   ]
  },
  {
   "cell_type": "code",
   "execution_count": null,
   "metadata": {},
   "outputs": [
    {
     "name": "stdout",
     "output_type": "stream",
     "text": [
      "[[1. 0. 0. 0.]\n",
      " [0. 1. 0. 0.]\n",
      " [0. 0. 1. 0.]\n",
      " [0. 0. 0. 1.]]\n"
     ]
    }
   ],
   "source": [
    "identidad = np.eye(4)\n",
    "print(identidad)"
   ]
  },
  {
   "cell_type": "code",
   "execution_count": null,
   "metadata": {},
   "outputs": [],
   "source": [
    "vector = np.array([[2],[3],[5],[7]])"
   ]
  },
  {
   "cell_type": "code",
   "execution_count": null,
   "metadata": {},
   "outputs": [
    {
     "name": "stdout",
     "output_type": "stream",
     "text": [
      "[[2.]\n",
      " [3.]\n",
      " [5.]\n",
      " [7.]]\n"
     ]
    }
   ],
   "source": [
    "print(identidad.dot(vector))"
   ]
  },
  {
   "cell_type": "code",
   "execution_count": null,
   "metadata": {},
   "outputs": [
    {
     "name": "stdout",
     "output_type": "stream",
     "text": [
      "[[2]\n",
      " [3]\n",
      " [5]\n",
      " [7]]\n"
     ]
    }
   ],
   "source": [
    "print(vector)"
   ]
  },
  {
   "attachments": {},
   "cell_type": "markdown",
   "metadata": {},
   "source": [
    "#### Matriz inversa con Python"
   ]
  },
  {
   "cell_type": "code",
   "execution_count": null,
   "metadata": {},
   "outputs": [
    {
     "name": "stdout",
     "output_type": "stream",
     "text": [
      "[[ 1  0  1]\n",
      " [ 0  1  1]\n",
      " [-1  1  1]]\n"
     ]
    }
   ],
   "source": [
    "A = np.array([[1,0,1],[0,1,1],[-1,1,1]])\n",
    "print(A)"
   ]
  },
  {
   "cell_type": "code",
   "execution_count": null,
   "metadata": {},
   "outputs": [
    {
     "name": "stdout",
     "output_type": "stream",
     "text": [
      "[[ 0.  1. -1.]\n",
      " [-1.  2. -1.]\n",
      " [ 1. -1.  1.]]\n"
     ]
    }
   ],
   "source": [
    "inversa_A = np.linalg.inv(A)\n",
    "print(inversa_A)"
   ]
  },
  {
   "cell_type": "code",
   "execution_count": null,
   "metadata": {},
   "outputs": [
    {
     "name": "stdout",
     "output_type": "stream",
     "text": [
      "[[1. 0. 0.]\n",
      " [0. 1. 0.]\n",
      " [0. 0. 1.]]\n"
     ]
    }
   ],
   "source": [
    "print(A.dot(inversa_A))"
   ]
  },
  {
   "attachments": {},
   "cell_type": "markdown",
   "metadata": {},
   "source": [
    "#### Matriz singular con Python"
   ]
  },
  {
   "cell_type": "code",
   "execution_count": null,
   "metadata": {},
   "outputs": [
    {
     "name": "stdout",
     "output_type": "stream",
     "text": [
      "[[1 1]\n",
      " [1 1]]\n"
     ]
    }
   ],
   "source": [
    "singular = np.array([[1,1],[1,1]])\n",
    "print(singular)\n"
   ]
  },
  {
   "cell_type": "code",
   "execution_count": null,
   "metadata": {},
   "outputs": [
    {
     "name": "stdout",
     "output_type": "stream",
     "text": [
      "0.0\n"
     ]
    }
   ],
   "source": [
    "print(np.linalg.det(singular))"
   ]
  },
  {
   "cell_type": "code",
   "execution_count": null,
   "metadata": {},
   "outputs": [
    {
     "ename": "LinAlgError",
     "evalue": "Singular matrix",
     "output_type": "error",
     "traceback": [
      "\u001b[0;31m---------------------------------------------------------------------------\u001b[0m",
      "\u001b[0;31mLinAlgError\u001b[0m                               Traceback (most recent call last)",
      "\u001b[1;32m/home/mazzaroli/personalProjects/DataScience/basico/algebra_lineal/notes.ipynb Cell 117\u001b[0m in \u001b[0;36m<cell line: 1>\u001b[0;34m()\u001b[0m\n\u001b[0;32m----> <a href='vscode-notebook-cell://wsl%2Bubuntu-20.04/home/mazzaroli/personalProjects/DataScience/basico/algebra_lineal/notes.ipynb#Y224sdnNjb2RlLXJlbW90ZQ%3D%3D?line=0'>1</a>\u001b[0m \u001b[39mprint\u001b[39m(np\u001b[39m.\u001b[39;49mlinalg\u001b[39m.\u001b[39;49minv(singular))\n",
      "File \u001b[0;32m<__array_function__ internals>:180\u001b[0m, in \u001b[0;36minv\u001b[0;34m(*args, **kwargs)\u001b[0m\n",
      "File \u001b[0;32m~/.local/lib/python3.8/site-packages/numpy/linalg/linalg.py:552\u001b[0m, in \u001b[0;36minv\u001b[0;34m(a)\u001b[0m\n\u001b[1;32m    550\u001b[0m signature \u001b[39m=\u001b[39m \u001b[39m'\u001b[39m\u001b[39mD->D\u001b[39m\u001b[39m'\u001b[39m \u001b[39mif\u001b[39;00m isComplexType(t) \u001b[39melse\u001b[39;00m \u001b[39m'\u001b[39m\u001b[39md->d\u001b[39m\u001b[39m'\u001b[39m\n\u001b[1;32m    551\u001b[0m extobj \u001b[39m=\u001b[39m get_linalg_error_extobj(_raise_linalgerror_singular)\n\u001b[0;32m--> 552\u001b[0m ainv \u001b[39m=\u001b[39m _umath_linalg\u001b[39m.\u001b[39;49minv(a, signature\u001b[39m=\u001b[39;49msignature, extobj\u001b[39m=\u001b[39;49mextobj)\n\u001b[1;32m    553\u001b[0m \u001b[39mreturn\u001b[39;00m wrap(ainv\u001b[39m.\u001b[39mastype(result_t, copy\u001b[39m=\u001b[39m\u001b[39mFalse\u001b[39;00m))\n",
      "File \u001b[0;32m~/.local/lib/python3.8/site-packages/numpy/linalg/linalg.py:89\u001b[0m, in \u001b[0;36m_raise_linalgerror_singular\u001b[0;34m(err, flag)\u001b[0m\n\u001b[1;32m     88\u001b[0m \u001b[39mdef\u001b[39;00m \u001b[39m_raise_linalgerror_singular\u001b[39m(err, flag):\n\u001b[0;32m---> 89\u001b[0m     \u001b[39mraise\u001b[39;00m LinAlgError(\u001b[39m\"\u001b[39m\u001b[39mSingular matrix\u001b[39m\u001b[39m\"\u001b[39m)\n",
      "\u001b[0;31mLinAlgError\u001b[0m: Singular matrix"
     ]
    }
   ],
   "source": [
    "print(np.linalg.inv(singular))"
   ]
  },
  {
   "attachments": {},
   "cell_type": "markdown",
   "metadata": {},
   "source": [
    "## Aplicación de la inversa de una matriz para resolver un sistema de ecuaciones lineales\n",
    "\n",
    "Apredimos a calcular la inversa de una matriz cuando existe, ahora veremos como podemos usarla para calcular un sistema lineal de ecuaciones\n",
    "\n",
    "Suponiendo que tenemos el siguiente sistema de ecuaciones lineales:\n",
    "\n",
    "$\n",
    "{\\displaystyle\n",
    "    \\begin{matrix}\n",
    "        3x+y=1\\\\\n",
    "        2x+y=1\\\\\n",
    "    \\end{matrix}\n",
    "}\n",
    "$\n",
    "\n",
    "Lo traducimos a nuestra matriz tal que:\n",
    "\n",
    "$\n",
    "{\\displaystyle\n",
    "    \\begin{bmatrix}\n",
    "        3 & 1\\\\\n",
    "        2 & 1\\\\\n",
    "    \\end{bmatrix}\n",
    "    \\begin{bmatrix}\n",
    "        x\\\\\n",
    "        y\\\\\n",
    "    \\end{bmatrix}\n",
    "    =\n",
    "    \\begin{bmatrix}\n",
    "        1\\\\\n",
    "        1\\\\\n",
    "    \\end{bmatrix}\n",
    "}\n",
    "$\n",
    "\n",
    "Por lo tanto usaremos lo que aprendimos hasta ahora para encontrar la solucion a nuestro sistema"
   ]
  },
  {
   "cell_type": "code",
   "execution_count": null,
   "metadata": {},
   "outputs": [],
   "source": [
    "import numpy as np"
   ]
  },
  {
   "cell_type": "code",
   "execution_count": null,
   "metadata": {},
   "outputs": [],
   "source": [
    "# These options determine the way floating point numbers, arrays and other NumPy objects are displayed.\n",
    "\n",
    "np.set_printoptions(suppress=True)"
   ]
  },
  {
   "cell_type": "code",
   "execution_count": null,
   "metadata": {},
   "outputs": [
    {
     "name": "stdout",
     "output_type": "stream",
     "text": [
      "[[3 1]\n",
      " [2 1]]\n"
     ]
    }
   ],
   "source": [
    "A = np.array([[3,1],[2,1]])\n",
    "print(A)"
   ]
  },
  {
   "cell_type": "code",
   "execution_count": null,
   "metadata": {},
   "outputs": [
    {
     "name": "stdout",
     "output_type": "stream",
     "text": [
      "[[1]\n",
      " [1]]\n"
     ]
    }
   ],
   "source": [
    "B = np.array([[1],[1]])\n",
    "print(B)"
   ]
  },
  {
   "attachments": {},
   "cell_type": "markdown",
   "metadata": {},
   "source": [
    "Teniendo definido el sistema en Python recordamos que el sistema lo dividiamos en el sistema $A, x$ y $b$, siendo tal que:\n",
    "\n",
    "$\n",
    "{\\displaystyle\n",
    "    \\underbrace{\n",
    "        \\begin{bmatrix}\n",
    "            3 & 1\\\\\n",
    "            2 & 1\\\\\n",
    "        \\end{bmatrix}\n",
    "    }_{A}\n",
    "    \\underbrace{\n",
    "        \\begin{bmatrix}\n",
    "            x\\\\\n",
    "            y\\\\\n",
    "        \\end{bmatrix}\n",
    "    }_{x}\n",
    "    =\n",
    "    \\underbrace{\n",
    "        \\begin{bmatrix}\n",
    "            1\\\\\n",
    "            1\\\\\n",
    "        \\end{bmatrix}\n",
    "    }_{b}\n",
    "}\n",
    "$\n",
    "\n",
    "Y para resolver la funcion despejabamos $x$\n",
    "\n",
    "- $\n",
    "Ax = b\n",
    "$\n",
    "\n",
    "- $\n",
    "A^{-1}Ax = A^{-1}b\n",
    "$\n",
    "\n",
    "- $\n",
    "x=A^{-1}b\n",
    "$\n"
   ]
  },
  {
   "cell_type": "code",
   "execution_count": null,
   "metadata": {},
   "outputs": [
    {
     "name": "stdout",
     "output_type": "stream",
     "text": [
      "[[ 1. -1.]\n",
      " [-2.  3.]]\n"
     ]
    }
   ],
   "source": [
    "inversa_A = np.linalg.inv(A)\n",
    "print(inversa_A)"
   ]
  },
  {
   "cell_type": "code",
   "execution_count": null,
   "metadata": {},
   "outputs": [
    {
     "name": "stdout",
     "output_type": "stream",
     "text": [
      "[[0.]\n",
      " [1.]]\n"
     ]
    }
   ],
   "source": [
    "x = inversa_A.dot(B)\n",
    "print(x)"
   ]
  },
  {
   "cell_type": "code",
   "execution_count": null,
   "metadata": {},
   "outputs": [
    {
     "name": "stdout",
     "output_type": "stream",
     "text": [
      "[[1.]\n",
      " [1.]]\n"
     ]
    }
   ],
   "source": [
    "print(A.dot(x))"
   ]
  },
  {
   "attachments": {},
   "cell_type": "markdown",
   "metadata": {},
   "source": [
    "# Sistema de ecuaciones lineales"
   ]
  },
  {
   "attachments": {},
   "cell_type": "markdown",
   "metadata": {},
   "source": [
    "## Ejemplos de sistemas sin solución, con una solución y con infinitas soluciones\n",
    "\n",
    "### Tipos de sistemas de ecuaciones:\n",
    "\n",
    "#### Incompatible o sobredeterminado:\n",
    "Cuando no hay soluciones para el sistema. Hay más ecuaciones que incógnitas\n",
    "\n",
    "#### Compatible determinado:\n",
    "Cuando el sistema tiene una única solución. Hay tantas ecuaciones como incógnitas (convergen en un sólo punto)\n",
    "\n",
    "#### Compatible indeterminado:\n",
    "Cuando hay infinitas soluciones. Hay menos ecuaciones que incógnitas."
   ]
  },
  {
   "cell_type": "code",
   "execution_count": 74,
   "metadata": {},
   "outputs": [],
   "source": [
    "import numpy as np\n",
    "import matplotlib.pyplot as plt"
   ]
  },
  {
   "attachments": {},
   "cell_type": "markdown",
   "metadata": {},
   "source": [
    "### Incompatible o sobredeterminado con Python"
   ]
  },
  {
   "cell_type": "code",
   "execution_count": 76,
   "metadata": {},
   "outputs": [],
   "source": [
    "x = np.arange(-6,6)\n",
    "\n",
    "y_1 = 3*x+5\n",
    "y_2 = -x+3\n",
    "y_3 = 2*x+1"
   ]
  },
  {
   "cell_type": "code",
   "execution_count": 77,
   "metadata": {},
   "outputs": [
    {
     "data": {
      "image/png": "[encoded data removed]",
      "text/plain": [
       "<Figure size 432x288 with 1 Axes>"
      ]
     },
     "metadata": {
      "needs_background": "light"
     },
     "output_type": "display_data"
    }
   ],
   "source": [
    "plt.figure()\n",
    "plt.plot(x,y_1)\n",
    "plt.plot(x,y_2)\n",
    "plt.plot(x,y_3)\n",
    "\n",
    "plt.xlim(-8,8)\n",
    "plt.ylim(-8,8)\n",
    "\n",
    "plt.axvline(x=0, color='grey')\n",
    "plt.axhline(y=0, color='grey')\n",
    "plt.show()"
   ]
  },
  {
   "attachments": {},
   "cell_type": "markdown",
   "metadata": {},
   "source": [
    "Como vemos no existe ningun punto donde se intersecten las 3 lines del sistema de ecuaciones, por lo tanto decimos que es un sistema sobredeterminado"
   ]
  },
  {
   "attachments": {},
   "cell_type": "markdown",
   "metadata": {},
   "source": [
    "#### Compatible determinado con Python"
   ]
  },
  {
   "cell_type": "code",
   "execution_count": 79,
   "metadata": {},
   "outputs": [],
   "source": [
    "x = np.arange(-6,6)\n",
    "\n",
    "y_2 = -1*x+3\n",
    "y_3 = 2*x+1"
   ]
  },
  {
   "cell_type": "code",
   "execution_count": 80,
   "metadata": {},
   "outputs": [
    {
     "data": {
      "image/png": "[encoded data removed]",
      "text/plain": [
       "<Figure size 432x288 with 1 Axes>"
      ]
     },
     "metadata": {
      "needs_background": "light"
     },
     "output_type": "display_data"
    }
   ],
   "source": [
    "plt.figure()\n",
    "plt.plot(x,y_2)\n",
    "plt.plot(x,y_3)\n",
    "\n",
    "plt.xlim(-8,8)\n",
    "plt.ylim(-8,8)\n",
    "\n",
    "plt.axvline(x=0, color='grey')\n",
    "plt.axhline(y=0, color='grey')\n",
    "plt.show()"
   ]
  },
  {
   "attachments": {},
   "cell_type": "markdown",
   "metadata": {},
   "source": [
    "Como vemos existe un punto de interseccion entre las dos ecuaciones del sistema, por lo tanto tenemos un sistema determinado."
   ]
  },
  {
   "attachments": {},
   "cell_type": "markdown",
   "metadata": {},
   "source": [
    "#### Compatible indeterminado con Python "
   ]
  },
  {
   "cell_type": "code",
   "execution_count": null,
   "metadata": {},
   "outputs": [],
   "source": [
    "x = np.arange(-6,6)\n",
    "\n",
    "y_3 = 2*x+1"
   ]
  },
  {
   "cell_type": "code",
   "execution_count": 81,
   "metadata": {},
   "outputs": [
    {
     "data": {
      "image/png": "[encoded data removed]",
      "text/plain": [
       "<Figure size 432x288 with 1 Axes>"
      ]
     },
     "metadata": {
      "needs_background": "light"
     },
     "output_type": "display_data"
    }
   ],
   "source": [
    "plt.figure()\n",
    "plt.plot(x,y_3)\n",
    "\n",
    "plt.xlim(-8,8)\n",
    "plt.ylim(-8,8)\n",
    "\n",
    "plt.axvline(x=0, color='grey')\n",
    "plt.axhline(y=0, color='grey')\n",
    "plt.show()"
   ]
  },
  {
   "attachments": {},
   "cell_type": "markdown",
   "metadata": {},
   "source": [
    "En este caso cualquier valor que tome X es una solucion, por lo tanto decimos que este es un sistema compatible indeterminado."
   ]
  },
  {
   "attachments": {},
   "cell_type": "markdown",
   "metadata": {},
   "source": [
    "## Graficar vectores\n"
   ]
  },
  {
   "cell_type": "code",
   "execution_count": 82,
   "metadata": {},
   "outputs": [],
   "source": [
    "%matplotlib inline\n",
    "\n",
    "import numpy as np\n",
    "import matplotlib.pyplot as plt"
   ]
  },
  {
   "cell_type": "code",
   "execution_count": 83,
   "metadata": {},
   "outputs": [],
   "source": [
    "v1 = np.array([2,5])\n",
    "v2 = np.array([3,2])"
   ]
  },
  {
   "cell_type": "code",
   "execution_count": 86,
   "metadata": {},
   "outputs": [],
   "source": [
    "def graficar_vectores( vecs, cols, alpha=1):\n",
    "    \n",
    "    plt.plot(vecs,cols)\n",
    "    plt.figure()\n",
    "    \n",
    "    plt.axvline()\n",
    "    plt.axvline(x=0, color='gray', zorder = 0)\n",
    "    plt.axhline(y=0, color='gray', zorder = 0)"
   ]
  },
  {
   "cell_type": "code",
   "execution_count": 88,
   "metadata": {},
   "outputs": [
    {
     "data": {
      "image/png": "[encoded data removed]",
      "text/plain": [
       "<Figure size 432x288 with 1 Axes>"
      ]
     },
     "metadata": {
      "needs_background": "light"
     },
     "output_type": "display_data"
    }
   ],
   "source": [
    "graficar_vectores(v1,v2)"
   ]
  }
 ],
 "metadata": {
  "kernelspec": {
   "display_name": "base",
   "language": "python",
   "name": "python3"
  },
  "language_info": {
   "codemirror_mode": {
    "name": "ipython",
    "version": 3
   },
   "file_extension": ".py",
   "mimetype": "text/x-python",
   "name": "python",
   "nbconvert_exporter": "python",
   "pygments_lexer": "ipython3",
   "version": "3.9.7"
  },
  "orig_nbformat": 4,
  "vscode": {
   "interpreter": {
    "hash": "642679db579c39e8c54388d8c67ee59d6b9479549eff357c7b1dae31a7261e66"
   }
  }
 },
 "nbformat": 4,
 "nbformat_minor": 2
}
